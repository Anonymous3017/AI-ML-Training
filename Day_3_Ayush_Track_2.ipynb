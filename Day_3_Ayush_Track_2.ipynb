{
  "nbformat": 4,
  "nbformat_minor": 0,
  "metadata": {
    "colab": {
      "provenance": [],
      "authorship_tag": "ABX9TyNGFLIKap/vOB5ORHAdEba5",
      "include_colab_link": true
    },
    "kernelspec": {
      "name": "python3",
      "display_name": "Python 3"
    },
    "language_info": {
      "name": "python"
    },
    "widgets": {
      "application/vnd.jupyter.widget-state+json": {
        "0a6b037e544b492a85e7cc598a8ec336": {
          "model_module": "@jupyter-widgets/controls",
          "model_name": "VBoxModel",
          "model_module_version": "1.5.0",
          "state": {
            "_dom_classes": [
              "widget-interact"
            ],
            "_model_module": "@jupyter-widgets/controls",
            "_model_module_version": "1.5.0",
            "_model_name": "VBoxModel",
            "_view_count": null,
            "_view_module": "@jupyter-widgets/controls",
            "_view_module_version": "1.5.0",
            "_view_name": "VBoxView",
            "box_style": "",
            "children": [
              "IPY_MODEL_6e1435e356854766b7f12b51dc16b5fa",
              "IPY_MODEL_41fe2029ba1a490f976d06707c408f5f"
            ],
            "layout": "IPY_MODEL_2ea64c61f7044c13b27c90afa73d531d"
          }
        },
        "6e1435e356854766b7f12b51dc16b5fa": {
          "model_module": "@jupyter-widgets/controls",
          "model_name": "IntSliderModel",
          "model_module_version": "1.5.0",
          "state": {
            "_dom_classes": [],
            "_model_module": "@jupyter-widgets/controls",
            "_model_module_version": "1.5.0",
            "_model_name": "IntSliderModel",
            "_view_count": null,
            "_view_module": "@jupyter-widgets/controls",
            "_view_module_version": "1.5.0",
            "_view_name": "IntSliderView",
            "continuous_update": true,
            "description": "a",
            "description_tooltip": null,
            "disabled": false,
            "layout": "IPY_MODEL_4eedb8205eea48919b3cf8e1193616d2",
            "max": 300,
            "min": 100,
            "orientation": "horizontal",
            "readout": true,
            "readout_format": "d",
            "step": 1,
            "style": "IPY_MODEL_c9846f301bd14026a0eee00291f698a5",
            "value": 100
          }
        },
        "41fe2029ba1a490f976d06707c408f5f": {
          "model_module": "@jupyter-widgets/output",
          "model_name": "OutputModel",
          "model_module_version": "1.0.0",
          "state": {
            "_dom_classes": [],
            "_model_module": "@jupyter-widgets/output",
            "_model_module_version": "1.0.0",
            "_model_name": "OutputModel",
            "_view_count": null,
            "_view_module": "@jupyter-widgets/output",
            "_view_module_version": "1.0.0",
            "_view_name": "OutputView",
            "layout": "IPY_MODEL_b56389c2518442bea64e02215fbc1463",
            "msg_id": "",
            "outputs": [
              {
                "output_type": "display_data",
                "data": {
                  "text/plain": "10000"
                },
                "metadata": {}
              }
            ]
          }
        },
        "2ea64c61f7044c13b27c90afa73d531d": {
          "model_module": "@jupyter-widgets/base",
          "model_name": "LayoutModel",
          "model_module_version": "1.2.0",
          "state": {
            "_model_module": "@jupyter-widgets/base",
            "_model_module_version": "1.2.0",
            "_model_name": "LayoutModel",
            "_view_count": null,
            "_view_module": "@jupyter-widgets/base",
            "_view_module_version": "1.2.0",
            "_view_name": "LayoutView",
            "align_content": null,
            "align_items": null,
            "align_self": null,
            "border": null,
            "bottom": null,
            "display": null,
            "flex": null,
            "flex_flow": null,
            "grid_area": null,
            "grid_auto_columns": null,
            "grid_auto_flow": null,
            "grid_auto_rows": null,
            "grid_column": null,
            "grid_gap": null,
            "grid_row": null,
            "grid_template_areas": null,
            "grid_template_columns": null,
            "grid_template_rows": null,
            "height": null,
            "justify_content": null,
            "justify_items": null,
            "left": null,
            "margin": null,
            "max_height": null,
            "max_width": null,
            "min_height": null,
            "min_width": null,
            "object_fit": null,
            "object_position": null,
            "order": null,
            "overflow": null,
            "overflow_x": null,
            "overflow_y": null,
            "padding": null,
            "right": null,
            "top": null,
            "visibility": null,
            "width": null
          }
        },
        "4eedb8205eea48919b3cf8e1193616d2": {
          "model_module": "@jupyter-widgets/base",
          "model_name": "LayoutModel",
          "model_module_version": "1.2.0",
          "state": {
            "_model_module": "@jupyter-widgets/base",
            "_model_module_version": "1.2.0",
            "_model_name": "LayoutModel",
            "_view_count": null,
            "_view_module": "@jupyter-widgets/base",
            "_view_module_version": "1.2.0",
            "_view_name": "LayoutView",
            "align_content": null,
            "align_items": null,
            "align_self": null,
            "border": null,
            "bottom": null,
            "display": null,
            "flex": null,
            "flex_flow": null,
            "grid_area": null,
            "grid_auto_columns": null,
            "grid_auto_flow": null,
            "grid_auto_rows": null,
            "grid_column": null,
            "grid_gap": null,
            "grid_row": null,
            "grid_template_areas": null,
            "grid_template_columns": null,
            "grid_template_rows": null,
            "height": null,
            "justify_content": null,
            "justify_items": null,
            "left": null,
            "margin": null,
            "max_height": null,
            "max_width": null,
            "min_height": null,
            "min_width": null,
            "object_fit": null,
            "object_position": null,
            "order": null,
            "overflow": null,
            "overflow_x": null,
            "overflow_y": null,
            "padding": null,
            "right": null,
            "top": null,
            "visibility": null,
            "width": null
          }
        },
        "c9846f301bd14026a0eee00291f698a5": {
          "model_module": "@jupyter-widgets/controls",
          "model_name": "SliderStyleModel",
          "model_module_version": "1.5.0",
          "state": {
            "_model_module": "@jupyter-widgets/controls",
            "_model_module_version": "1.5.0",
            "_model_name": "SliderStyleModel",
            "_view_count": null,
            "_view_module": "@jupyter-widgets/base",
            "_view_module_version": "1.2.0",
            "_view_name": "StyleView",
            "description_width": "",
            "handle_color": null
          }
        },
        "b56389c2518442bea64e02215fbc1463": {
          "model_module": "@jupyter-widgets/base",
          "model_name": "LayoutModel",
          "model_module_version": "1.2.0",
          "state": {
            "_model_module": "@jupyter-widgets/base",
            "_model_module_version": "1.2.0",
            "_model_name": "LayoutModel",
            "_view_count": null,
            "_view_module": "@jupyter-widgets/base",
            "_view_module_version": "1.2.0",
            "_view_name": "LayoutView",
            "align_content": null,
            "align_items": null,
            "align_self": null,
            "border": null,
            "bottom": null,
            "display": null,
            "flex": null,
            "flex_flow": null,
            "grid_area": null,
            "grid_auto_columns": null,
            "grid_auto_flow": null,
            "grid_auto_rows": null,
            "grid_column": null,
            "grid_gap": null,
            "grid_row": null,
            "grid_template_areas": null,
            "grid_template_columns": null,
            "grid_template_rows": null,
            "height": null,
            "justify_content": null,
            "justify_items": null,
            "left": null,
            "margin": null,
            "max_height": null,
            "max_width": null,
            "min_height": null,
            "min_width": null,
            "object_fit": null,
            "object_position": null,
            "order": null,
            "overflow": null,
            "overflow_x": null,
            "overflow_y": null,
            "padding": null,
            "right": null,
            "top": null,
            "visibility": null,
            "width": null
          }
        },
        "ca12009dbbd34d96983ffb5327ab2ff0": {
          "model_module": "@jupyter-widgets/controls",
          "model_name": "IntSliderModel",
          "model_module_version": "1.5.0",
          "state": {
            "_dom_classes": [],
            "_model_module": "@jupyter-widgets/controls",
            "_model_module_version": "1.5.0",
            "_model_name": "IntSliderModel",
            "_view_count": null,
            "_view_module": "@jupyter-widgets/controls",
            "_view_module_version": "1.5.0",
            "_view_name": "IntSliderView",
            "continuous_update": true,
            "description": "",
            "description_tooltip": null,
            "disabled": false,
            "layout": "IPY_MODEL_07159c5a30f143249e05fdb0ec78efc3",
            "max": 300,
            "min": 100,
            "orientation": "horizontal",
            "readout": true,
            "readout_format": "d",
            "step": 1,
            "style": "IPY_MODEL_e9c74cbca391460bafcbb6ad4fa9009e",
            "value": 100
          }
        },
        "07159c5a30f143249e05fdb0ec78efc3": {
          "model_module": "@jupyter-widgets/base",
          "model_name": "LayoutModel",
          "model_module_version": "1.2.0",
          "state": {
            "_model_module": "@jupyter-widgets/base",
            "_model_module_version": "1.2.0",
            "_model_name": "LayoutModel",
            "_view_count": null,
            "_view_module": "@jupyter-widgets/base",
            "_view_module_version": "1.2.0",
            "_view_name": "LayoutView",
            "align_content": null,
            "align_items": null,
            "align_self": null,
            "border": null,
            "bottom": null,
            "display": null,
            "flex": null,
            "flex_flow": null,
            "grid_area": null,
            "grid_auto_columns": null,
            "grid_auto_flow": null,
            "grid_auto_rows": null,
            "grid_column": null,
            "grid_gap": null,
            "grid_row": null,
            "grid_template_areas": null,
            "grid_template_columns": null,
            "grid_template_rows": null,
            "height": null,
            "justify_content": null,
            "justify_items": null,
            "left": null,
            "margin": null,
            "max_height": null,
            "max_width": null,
            "min_height": null,
            "min_width": null,
            "object_fit": null,
            "object_position": null,
            "order": null,
            "overflow": null,
            "overflow_x": null,
            "overflow_y": null,
            "padding": null,
            "right": null,
            "top": null,
            "visibility": null,
            "width": null
          }
        },
        "e9c74cbca391460bafcbb6ad4fa9009e": {
          "model_module": "@jupyter-widgets/controls",
          "model_name": "SliderStyleModel",
          "model_module_version": "1.5.0",
          "state": {
            "_model_module": "@jupyter-widgets/controls",
            "_model_module_version": "1.5.0",
            "_model_name": "SliderStyleModel",
            "_view_count": null,
            "_view_module": "@jupyter-widgets/base",
            "_view_module_version": "1.2.0",
            "_view_name": "StyleView",
            "description_width": "",
            "handle_color": null
          }
        },
        "302038cf55be436bb530ca9e3a15fd31": {
          "model_module": "@jupyter-widgets/controls",
          "model_name": "DropdownModel",
          "model_module_version": "1.5.0",
          "state": {
            "_dom_classes": [],
            "_model_module": "@jupyter-widgets/controls",
            "_model_module_version": "1.5.0",
            "_model_name": "DropdownModel",
            "_options_labels": [
              "a",
              "b",
              "c"
            ],
            "_view_count": null,
            "_view_module": "@jupyter-widgets/controls",
            "_view_module_version": "1.5.0",
            "_view_name": "DropdownView",
            "description": "alphabets",
            "description_tooltip": null,
            "disabled": false,
            "index": 1,
            "layout": "IPY_MODEL_796b2532a4d244d8bccbe78f415cbfaa",
            "style": "IPY_MODEL_b6c2d154a5784dbe92531909670112d8"
          }
        },
        "796b2532a4d244d8bccbe78f415cbfaa": {
          "model_module": "@jupyter-widgets/base",
          "model_name": "LayoutModel",
          "model_module_version": "1.2.0",
          "state": {
            "_model_module": "@jupyter-widgets/base",
            "_model_module_version": "1.2.0",
            "_model_name": "LayoutModel",
            "_view_count": null,
            "_view_module": "@jupyter-widgets/base",
            "_view_module_version": "1.2.0",
            "_view_name": "LayoutView",
            "align_content": null,
            "align_items": null,
            "align_self": null,
            "border": null,
            "bottom": null,
            "display": null,
            "flex": null,
            "flex_flow": null,
            "grid_area": null,
            "grid_auto_columns": null,
            "grid_auto_flow": null,
            "grid_auto_rows": null,
            "grid_column": null,
            "grid_gap": null,
            "grid_row": null,
            "grid_template_areas": null,
            "grid_template_columns": null,
            "grid_template_rows": null,
            "height": null,
            "justify_content": null,
            "justify_items": null,
            "left": null,
            "margin": null,
            "max_height": null,
            "max_width": null,
            "min_height": null,
            "min_width": null,
            "object_fit": null,
            "object_position": null,
            "order": null,
            "overflow": null,
            "overflow_x": null,
            "overflow_y": null,
            "padding": null,
            "right": null,
            "top": null,
            "visibility": null,
            "width": null
          }
        },
        "b6c2d154a5784dbe92531909670112d8": {
          "model_module": "@jupyter-widgets/controls",
          "model_name": "DescriptionStyleModel",
          "model_module_version": "1.5.0",
          "state": {
            "_model_module": "@jupyter-widgets/controls",
            "_model_module_version": "1.5.0",
            "_model_name": "DescriptionStyleModel",
            "_view_count": null,
            "_view_module": "@jupyter-widgets/base",
            "_view_module_version": "1.2.0",
            "_view_name": "StyleView",
            "description_width": ""
          }
        },
        "521310242d3d40f2bd6a1589f8b9ba81": {
          "model_module": "@jupyter-widgets/controls",
          "model_name": "TextareaModel",
          "model_module_version": "1.5.0",
          "state": {
            "_dom_classes": [],
            "_model_module": "@jupyter-widgets/controls",
            "_model_module_version": "1.5.0",
            "_model_name": "TextareaModel",
            "_view_count": null,
            "_view_module": "@jupyter-widgets/controls",
            "_view_module_version": "1.5.0",
            "_view_name": "TextareaView",
            "continuous_update": true,
            "description": "Now write",
            "description_tooltip": null,
            "disabled": false,
            "layout": "IPY_MODEL_f78b01df0d494a44b9bc3d8d63419f8c",
            "placeholder": "type something",
            "rows": null,
            "style": "IPY_MODEL_f34792aa93cb4d3c96cddc0854737e8a",
            "value": ""
          }
        },
        "f78b01df0d494a44b9bc3d8d63419f8c": {
          "model_module": "@jupyter-widgets/base",
          "model_name": "LayoutModel",
          "model_module_version": "1.2.0",
          "state": {
            "_model_module": "@jupyter-widgets/base",
            "_model_module_version": "1.2.0",
            "_model_name": "LayoutModel",
            "_view_count": null,
            "_view_module": "@jupyter-widgets/base",
            "_view_module_version": "1.2.0",
            "_view_name": "LayoutView",
            "align_content": null,
            "align_items": null,
            "align_self": null,
            "border": null,
            "bottom": null,
            "display": null,
            "flex": null,
            "flex_flow": null,
            "grid_area": null,
            "grid_auto_columns": null,
            "grid_auto_flow": null,
            "grid_auto_rows": null,
            "grid_column": null,
            "grid_gap": null,
            "grid_row": null,
            "grid_template_areas": null,
            "grid_template_columns": null,
            "grid_template_rows": null,
            "height": null,
            "justify_content": null,
            "justify_items": null,
            "left": null,
            "margin": null,
            "max_height": null,
            "max_width": null,
            "min_height": null,
            "min_width": null,
            "object_fit": null,
            "object_position": null,
            "order": null,
            "overflow": null,
            "overflow_x": null,
            "overflow_y": null,
            "padding": null,
            "right": null,
            "top": null,
            "visibility": null,
            "width": null
          }
        },
        "f34792aa93cb4d3c96cddc0854737e8a": {
          "model_module": "@jupyter-widgets/controls",
          "model_name": "DescriptionStyleModel",
          "model_module_version": "1.5.0",
          "state": {
            "_model_module": "@jupyter-widgets/controls",
            "_model_module_version": "1.5.0",
            "_model_name": "DescriptionStyleModel",
            "_view_count": null,
            "_view_module": "@jupyter-widgets/base",
            "_view_module_version": "1.2.0",
            "_view_name": "StyleView",
            "description_width": ""
          }
        },
        "68b5dce2b3a8484782e4a9d6a75ecb2d": {
          "model_module": "@jupyter-widgets/controls",
          "model_name": "VBoxModel",
          "model_module_version": "1.5.0",
          "state": {
            "_dom_classes": [
              "widget-interact"
            ],
            "_model_module": "@jupyter-widgets/controls",
            "_model_module_version": "1.5.0",
            "_model_name": "VBoxModel",
            "_view_count": null,
            "_view_module": "@jupyter-widgets/controls",
            "_view_module_version": "1.5.0",
            "_view_name": "VBoxView",
            "box_style": "",
            "children": [
              "IPY_MODEL_22de281661cd41e7976678952025fff0",
              "IPY_MODEL_072da3ab062048f7829cf25ff6f8b6bf",
              "IPY_MODEL_207e5eb32bca4e35998c605678b8a6d6"
            ],
            "layout": "IPY_MODEL_e84751d05abb448cace8e39fcf83251a"
          }
        },
        "22de281661cd41e7976678952025fff0": {
          "model_module": "@jupyter-widgets/controls",
          "model_name": "DropdownModel",
          "model_module_version": "1.5.0",
          "state": {
            "_dom_classes": [],
            "_model_module": "@jupyter-widgets/controls",
            "_model_module_version": "1.5.0",
            "_model_name": "DropdownModel",
            "_options_labels": [
              "sepal length (cm)",
              "sepal width (cm)",
              "petal length (cm)",
              "petal width (cm)"
            ],
            "_view_count": null,
            "_view_module": "@jupyter-widgets/controls",
            "_view_module_version": "1.5.0",
            "_view_name": "DropdownView",
            "description": "f1",
            "description_tooltip": null,
            "disabled": false,
            "index": 0,
            "layout": "IPY_MODEL_8fe8b3c5c5fd4f4486be7a348a001e35",
            "style": "IPY_MODEL_099ed5e1dd9a41ae985cd43480e93c02"
          }
        },
        "072da3ab062048f7829cf25ff6f8b6bf": {
          "model_module": "@jupyter-widgets/controls",
          "model_name": "DropdownModel",
          "model_module_version": "1.5.0",
          "state": {
            "_dom_classes": [],
            "_model_module": "@jupyter-widgets/controls",
            "_model_module_version": "1.5.0",
            "_model_name": "DropdownModel",
            "_options_labels": [
              "sepal length (cm)",
              "sepal width (cm)",
              "petal length (cm)",
              "petal width (cm)"
            ],
            "_view_count": null,
            "_view_module": "@jupyter-widgets/controls",
            "_view_module_version": "1.5.0",
            "_view_name": "DropdownView",
            "description": "f2",
            "description_tooltip": null,
            "disabled": false,
            "index": 1,
            "layout": "IPY_MODEL_6bd7bf41ed594be28e7034bcd5ac2619",
            "style": "IPY_MODEL_3898b6da6ce849d4a3e112a910b58832"
          }
        },
        "207e5eb32bca4e35998c605678b8a6d6": {
          "model_module": "@jupyter-widgets/output",
          "model_name": "OutputModel",
          "model_module_version": "1.0.0",
          "state": {
            "_dom_classes": [],
            "_model_module": "@jupyter-widgets/output",
            "_model_module_version": "1.0.0",
            "_model_name": "OutputModel",
            "_view_count": null,
            "_view_module": "@jupyter-widgets/output",
            "_view_module_version": "1.0.0",
            "_view_name": "OutputView",
            "layout": "IPY_MODEL_63b3e8d5e9304329bdc140e2397487cb",
            "msg_id": "",
            "outputs": [
              {
                "output_type": "display_data",
                "data": {
                  "text/plain": "<Figure size 800x500 with 1 Axes>",
                  "image/png": "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\n"
                },
                "metadata": {}
              }
            ]
          }
        },
        "e84751d05abb448cace8e39fcf83251a": {
          "model_module": "@jupyter-widgets/base",
          "model_name": "LayoutModel",
          "model_module_version": "1.2.0",
          "state": {
            "_model_module": "@jupyter-widgets/base",
            "_model_module_version": "1.2.0",
            "_model_name": "LayoutModel",
            "_view_count": null,
            "_view_module": "@jupyter-widgets/base",
            "_view_module_version": "1.2.0",
            "_view_name": "LayoutView",
            "align_content": null,
            "align_items": null,
            "align_self": null,
            "border": null,
            "bottom": null,
            "display": null,
            "flex": null,
            "flex_flow": null,
            "grid_area": null,
            "grid_auto_columns": null,
            "grid_auto_flow": null,
            "grid_auto_rows": null,
            "grid_column": null,
            "grid_gap": null,
            "grid_row": null,
            "grid_template_areas": null,
            "grid_template_columns": null,
            "grid_template_rows": null,
            "height": null,
            "justify_content": null,
            "justify_items": null,
            "left": null,
            "margin": null,
            "max_height": null,
            "max_width": null,
            "min_height": null,
            "min_width": null,
            "object_fit": null,
            "object_position": null,
            "order": null,
            "overflow": null,
            "overflow_x": null,
            "overflow_y": null,
            "padding": null,
            "right": null,
            "top": null,
            "visibility": null,
            "width": null
          }
        },
        "8fe8b3c5c5fd4f4486be7a348a001e35": {
          "model_module": "@jupyter-widgets/base",
          "model_name": "LayoutModel",
          "model_module_version": "1.2.0",
          "state": {
            "_model_module": "@jupyter-widgets/base",
            "_model_module_version": "1.2.0",
            "_model_name": "LayoutModel",
            "_view_count": null,
            "_view_module": "@jupyter-widgets/base",
            "_view_module_version": "1.2.0",
            "_view_name": "LayoutView",
            "align_content": null,
            "align_items": null,
            "align_self": null,
            "border": null,
            "bottom": null,
            "display": null,
            "flex": null,
            "flex_flow": null,
            "grid_area": null,
            "grid_auto_columns": null,
            "grid_auto_flow": null,
            "grid_auto_rows": null,
            "grid_column": null,
            "grid_gap": null,
            "grid_row": null,
            "grid_template_areas": null,
            "grid_template_columns": null,
            "grid_template_rows": null,
            "height": null,
            "justify_content": null,
            "justify_items": null,
            "left": null,
            "margin": null,
            "max_height": null,
            "max_width": null,
            "min_height": null,
            "min_width": null,
            "object_fit": null,
            "object_position": null,
            "order": null,
            "overflow": null,
            "overflow_x": null,
            "overflow_y": null,
            "padding": null,
            "right": null,
            "top": null,
            "visibility": null,
            "width": null
          }
        },
        "099ed5e1dd9a41ae985cd43480e93c02": {
          "model_module": "@jupyter-widgets/controls",
          "model_name": "DescriptionStyleModel",
          "model_module_version": "1.5.0",
          "state": {
            "_model_module": "@jupyter-widgets/controls",
            "_model_module_version": "1.5.0",
            "_model_name": "DescriptionStyleModel",
            "_view_count": null,
            "_view_module": "@jupyter-widgets/base",
            "_view_module_version": "1.2.0",
            "_view_name": "StyleView",
            "description_width": ""
          }
        },
        "6bd7bf41ed594be28e7034bcd5ac2619": {
          "model_module": "@jupyter-widgets/base",
          "model_name": "LayoutModel",
          "model_module_version": "1.2.0",
          "state": {
            "_model_module": "@jupyter-widgets/base",
            "_model_module_version": "1.2.0",
            "_model_name": "LayoutModel",
            "_view_count": null,
            "_view_module": "@jupyter-widgets/base",
            "_view_module_version": "1.2.0",
            "_view_name": "LayoutView",
            "align_content": null,
            "align_items": null,
            "align_self": null,
            "border": null,
            "bottom": null,
            "display": null,
            "flex": null,
            "flex_flow": null,
            "grid_area": null,
            "grid_auto_columns": null,
            "grid_auto_flow": null,
            "grid_auto_rows": null,
            "grid_column": null,
            "grid_gap": null,
            "grid_row": null,
            "grid_template_areas": null,
            "grid_template_columns": null,
            "grid_template_rows": null,
            "height": null,
            "justify_content": null,
            "justify_items": null,
            "left": null,
            "margin": null,
            "max_height": null,
            "max_width": null,
            "min_height": null,
            "min_width": null,
            "object_fit": null,
            "object_position": null,
            "order": null,
            "overflow": null,
            "overflow_x": null,
            "overflow_y": null,
            "padding": null,
            "right": null,
            "top": null,
            "visibility": null,
            "width": null
          }
        },
        "3898b6da6ce849d4a3e112a910b58832": {
          "model_module": "@jupyter-widgets/controls",
          "model_name": "DescriptionStyleModel",
          "model_module_version": "1.5.0",
          "state": {
            "_model_module": "@jupyter-widgets/controls",
            "_model_module_version": "1.5.0",
            "_model_name": "DescriptionStyleModel",
            "_view_count": null,
            "_view_module": "@jupyter-widgets/base",
            "_view_module_version": "1.2.0",
            "_view_name": "StyleView",
            "description_width": ""
          }
        },
        "63b3e8d5e9304329bdc140e2397487cb": {
          "model_module": "@jupyter-widgets/base",
          "model_name": "LayoutModel",
          "model_module_version": "1.2.0",
          "state": {
            "_model_module": "@jupyter-widgets/base",
            "_model_module_version": "1.2.0",
            "_model_name": "LayoutModel",
            "_view_count": null,
            "_view_module": "@jupyter-widgets/base",
            "_view_module_version": "1.2.0",
            "_view_name": "LayoutView",
            "align_content": null,
            "align_items": null,
            "align_self": null,
            "border": null,
            "bottom": null,
            "display": null,
            "flex": null,
            "flex_flow": null,
            "grid_area": null,
            "grid_auto_columns": null,
            "grid_auto_flow": null,
            "grid_auto_rows": null,
            "grid_column": null,
            "grid_gap": null,
            "grid_row": null,
            "grid_template_areas": null,
            "grid_template_columns": null,
            "grid_template_rows": null,
            "height": null,
            "justify_content": null,
            "justify_items": null,
            "left": null,
            "margin": null,
            "max_height": null,
            "max_width": null,
            "min_height": null,
            "min_width": null,
            "object_fit": null,
            "object_position": null,
            "order": null,
            "overflow": null,
            "overflow_x": null,
            "overflow_y": null,
            "padding": null,
            "right": null,
            "top": null,
            "visibility": null,
            "width": null
          }
        },
        "0fe7bf40361340bf86058e88d2852c70": {
          "model_module": "@jupyter-widgets/controls",
          "model_name": "VBoxModel",
          "model_module_version": "1.5.0",
          "state": {
            "_dom_classes": [
              "widget-interact"
            ],
            "_model_module": "@jupyter-widgets/controls",
            "_model_module_version": "1.5.0",
            "_model_name": "VBoxModel",
            "_view_count": null,
            "_view_module": "@jupyter-widgets/controls",
            "_view_module_version": "1.5.0",
            "_view_name": "VBoxView",
            "box_style": "",
            "children": [
              "IPY_MODEL_63dbac202c414b38900a36e8e6184611",
              "IPY_MODEL_e4dd51daa9d9425a8bb99bf8c7802228",
              "IPY_MODEL_a569d7d0f01644d1b714b66706989ad4",
              "IPY_MODEL_5106c4a4af1449889c058815e168c0d5"
            ],
            "layout": "IPY_MODEL_bc9b5507bad841fcae6ba204efe900d4"
          }
        },
        "63dbac202c414b38900a36e8e6184611": {
          "model_module": "@jupyter-widgets/controls",
          "model_name": "DropdownModel",
          "model_module_version": "1.5.0",
          "state": {
            "_dom_classes": [],
            "_model_module": "@jupyter-widgets/controls",
            "_model_module_version": "1.5.0",
            "_model_name": "DropdownModel",
            "_options_labels": [
              "sepal length (cm)",
              "sepal width (cm)",
              "petal length (cm)",
              "petal width (cm)"
            ],
            "_view_count": null,
            "_view_module": "@jupyter-widgets/controls",
            "_view_module_version": "1.5.0",
            "_view_name": "DropdownView",
            "description": "Feature 1",
            "description_tooltip": null,
            "disabled": false,
            "index": 0,
            "layout": "IPY_MODEL_b9aaa2010121409f921a384034ec68f1",
            "style": "IPY_MODEL_40ab6e8aaf0440ba9fb097c3b917535e"
          }
        },
        "e4dd51daa9d9425a8bb99bf8c7802228": {
          "model_module": "@jupyter-widgets/controls",
          "model_name": "DropdownModel",
          "model_module_version": "1.5.0",
          "state": {
            "_dom_classes": [],
            "_model_module": "@jupyter-widgets/controls",
            "_model_module_version": "1.5.0",
            "_model_name": "DropdownModel",
            "_options_labels": [
              "sepal length (cm)",
              "sepal width (cm)",
              "petal length (cm)",
              "petal width (cm)"
            ],
            "_view_count": null,
            "_view_module": "@jupyter-widgets/controls",
            "_view_module_version": "1.5.0",
            "_view_name": "DropdownView",
            "description": "Feature 2",
            "description_tooltip": null,
            "disabled": false,
            "index": 2,
            "layout": "IPY_MODEL_6ed7d004662d44bbaedf7c95a74f4ab5",
            "style": "IPY_MODEL_1ee8ec59396b4568933044d264ed1e49"
          }
        },
        "a569d7d0f01644d1b714b66706989ad4": {
          "model_module": "@jupyter-widgets/controls",
          "model_name": "IntSliderModel",
          "model_module_version": "1.5.0",
          "state": {
            "_dom_classes": [],
            "_model_module": "@jupyter-widgets/controls",
            "_model_module_version": "1.5.0",
            "_model_name": "IntSliderModel",
            "_view_count": null,
            "_view_module": "@jupyter-widgets/controls",
            "_view_module_version": "1.5.0",
            "_view_name": "IntSliderView",
            "continuous_update": true,
            "description": "Number of Samples",
            "description_tooltip": null,
            "disabled": false,
            "layout": "IPY_MODEL_2ede7da5584d4af39672962d25beade1",
            "max": 150,
            "min": 1,
            "orientation": "horizontal",
            "readout": true,
            "readout_format": "d",
            "step": 1,
            "style": "IPY_MODEL_157e577500de46eaa7d7239bed105d9f",
            "value": 51
          }
        },
        "5106c4a4af1449889c058815e168c0d5": {
          "model_module": "@jupyter-widgets/output",
          "model_name": "OutputModel",
          "model_module_version": "1.0.0",
          "state": {
            "_dom_classes": [],
            "_model_module": "@jupyter-widgets/output",
            "_model_module_version": "1.0.0",
            "_model_name": "OutputModel",
            "_view_count": null,
            "_view_module": "@jupyter-widgets/output",
            "_view_module_version": "1.0.0",
            "_view_name": "OutputView",
            "layout": "IPY_MODEL_27204dfe7182498aa7bc42adab7a41c0",
            "msg_id": "",
            "outputs": [
              {
                "output_type": "display_data",
                "data": {
                  "text/plain": "<Figure size 800x500 with 1 Axes>",
                  "image/png": "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\n"
                },
                "metadata": {}
              }
            ]
          }
        },
        "bc9b5507bad841fcae6ba204efe900d4": {
          "model_module": "@jupyter-widgets/base",
          "model_name": "LayoutModel",
          "model_module_version": "1.2.0",
          "state": {
            "_model_module": "@jupyter-widgets/base",
            "_model_module_version": "1.2.0",
            "_model_name": "LayoutModel",
            "_view_count": null,
            "_view_module": "@jupyter-widgets/base",
            "_view_module_version": "1.2.0",
            "_view_name": "LayoutView",
            "align_content": null,
            "align_items": null,
            "align_self": null,
            "border": null,
            "bottom": null,
            "display": null,
            "flex": null,
            "flex_flow": null,
            "grid_area": null,
            "grid_auto_columns": null,
            "grid_auto_flow": null,
            "grid_auto_rows": null,
            "grid_column": null,
            "grid_gap": null,
            "grid_row": null,
            "grid_template_areas": null,
            "grid_template_columns": null,
            "grid_template_rows": null,
            "height": null,
            "justify_content": null,
            "justify_items": null,
            "left": null,
            "margin": null,
            "max_height": null,
            "max_width": null,
            "min_height": null,
            "min_width": null,
            "object_fit": null,
            "object_position": null,
            "order": null,
            "overflow": null,
            "overflow_x": null,
            "overflow_y": null,
            "padding": null,
            "right": null,
            "top": null,
            "visibility": null,
            "width": null
          }
        },
        "b9aaa2010121409f921a384034ec68f1": {
          "model_module": "@jupyter-widgets/base",
          "model_name": "LayoutModel",
          "model_module_version": "1.2.0",
          "state": {
            "_model_module": "@jupyter-widgets/base",
            "_model_module_version": "1.2.0",
            "_model_name": "LayoutModel",
            "_view_count": null,
            "_view_module": "@jupyter-widgets/base",
            "_view_module_version": "1.2.0",
            "_view_name": "LayoutView",
            "align_content": null,
            "align_items": null,
            "align_self": null,
            "border": null,
            "bottom": null,
            "display": null,
            "flex": null,
            "flex_flow": null,
            "grid_area": null,
            "grid_auto_columns": null,
            "grid_auto_flow": null,
            "grid_auto_rows": null,
            "grid_column": null,
            "grid_gap": null,
            "grid_row": null,
            "grid_template_areas": null,
            "grid_template_columns": null,
            "grid_template_rows": null,
            "height": null,
            "justify_content": null,
            "justify_items": null,
            "left": null,
            "margin": null,
            "max_height": null,
            "max_width": null,
            "min_height": null,
            "min_width": null,
            "object_fit": null,
            "object_position": null,
            "order": null,
            "overflow": null,
            "overflow_x": null,
            "overflow_y": null,
            "padding": null,
            "right": null,
            "top": null,
            "visibility": null,
            "width": null
          }
        },
        "40ab6e8aaf0440ba9fb097c3b917535e": {
          "model_module": "@jupyter-widgets/controls",
          "model_name": "DescriptionStyleModel",
          "model_module_version": "1.5.0",
          "state": {
            "_model_module": "@jupyter-widgets/controls",
            "_model_module_version": "1.5.0",
            "_model_name": "DescriptionStyleModel",
            "_view_count": null,
            "_view_module": "@jupyter-widgets/base",
            "_view_module_version": "1.2.0",
            "_view_name": "StyleView",
            "description_width": ""
          }
        },
        "6ed7d004662d44bbaedf7c95a74f4ab5": {
          "model_module": "@jupyter-widgets/base",
          "model_name": "LayoutModel",
          "model_module_version": "1.2.0",
          "state": {
            "_model_module": "@jupyter-widgets/base",
            "_model_module_version": "1.2.0",
            "_model_name": "LayoutModel",
            "_view_count": null,
            "_view_module": "@jupyter-widgets/base",
            "_view_module_version": "1.2.0",
            "_view_name": "LayoutView",
            "align_content": null,
            "align_items": null,
            "align_self": null,
            "border": null,
            "bottom": null,
            "display": null,
            "flex": null,
            "flex_flow": null,
            "grid_area": null,
            "grid_auto_columns": null,
            "grid_auto_flow": null,
            "grid_auto_rows": null,
            "grid_column": null,
            "grid_gap": null,
            "grid_row": null,
            "grid_template_areas": null,
            "grid_template_columns": null,
            "grid_template_rows": null,
            "height": null,
            "justify_content": null,
            "justify_items": null,
            "left": null,
            "margin": null,
            "max_height": null,
            "max_width": null,
            "min_height": null,
            "min_width": null,
            "object_fit": null,
            "object_position": null,
            "order": null,
            "overflow": null,
            "overflow_x": null,
            "overflow_y": null,
            "padding": null,
            "right": null,
            "top": null,
            "visibility": null,
            "width": null
          }
        },
        "1ee8ec59396b4568933044d264ed1e49": {
          "model_module": "@jupyter-widgets/controls",
          "model_name": "DescriptionStyleModel",
          "model_module_version": "1.5.0",
          "state": {
            "_model_module": "@jupyter-widgets/controls",
            "_model_module_version": "1.5.0",
            "_model_name": "DescriptionStyleModel",
            "_view_count": null,
            "_view_module": "@jupyter-widgets/base",
            "_view_module_version": "1.2.0",
            "_view_name": "StyleView",
            "description_width": ""
          }
        },
        "2ede7da5584d4af39672962d25beade1": {
          "model_module": "@jupyter-widgets/base",
          "model_name": "LayoutModel",
          "model_module_version": "1.2.0",
          "state": {
            "_model_module": "@jupyter-widgets/base",
            "_model_module_version": "1.2.0",
            "_model_name": "LayoutModel",
            "_view_count": null,
            "_view_module": "@jupyter-widgets/base",
            "_view_module_version": "1.2.0",
            "_view_name": "LayoutView",
            "align_content": null,
            "align_items": null,
            "align_self": null,
            "border": null,
            "bottom": null,
            "display": null,
            "flex": null,
            "flex_flow": null,
            "grid_area": null,
            "grid_auto_columns": null,
            "grid_auto_flow": null,
            "grid_auto_rows": null,
            "grid_column": null,
            "grid_gap": null,
            "grid_row": null,
            "grid_template_areas": null,
            "grid_template_columns": null,
            "grid_template_rows": null,
            "height": null,
            "justify_content": null,
            "justify_items": null,
            "left": null,
            "margin": null,
            "max_height": null,
            "max_width": null,
            "min_height": null,
            "min_width": null,
            "object_fit": null,
            "object_position": null,
            "order": null,
            "overflow": null,
            "overflow_x": null,
            "overflow_y": null,
            "padding": null,
            "right": null,
            "top": null,
            "visibility": null,
            "width": null
          }
        },
        "157e577500de46eaa7d7239bed105d9f": {
          "model_module": "@jupyter-widgets/controls",
          "model_name": "SliderStyleModel",
          "model_module_version": "1.5.0",
          "state": {
            "_model_module": "@jupyter-widgets/controls",
            "_model_module_version": "1.5.0",
            "_model_name": "SliderStyleModel",
            "_view_count": null,
            "_view_module": "@jupyter-widgets/base",
            "_view_module_version": "1.2.0",
            "_view_name": "StyleView",
            "description_width": "",
            "handle_color": null
          }
        },
        "27204dfe7182498aa7bc42adab7a41c0": {
          "model_module": "@jupyter-widgets/base",
          "model_name": "LayoutModel",
          "model_module_version": "1.2.0",
          "state": {
            "_model_module": "@jupyter-widgets/base",
            "_model_module_version": "1.2.0",
            "_model_name": "LayoutModel",
            "_view_count": null,
            "_view_module": "@jupyter-widgets/base",
            "_view_module_version": "1.2.0",
            "_view_name": "LayoutView",
            "align_content": null,
            "align_items": null,
            "align_self": null,
            "border": null,
            "bottom": null,
            "display": null,
            "flex": null,
            "flex_flow": null,
            "grid_area": null,
            "grid_auto_columns": null,
            "grid_auto_flow": null,
            "grid_auto_rows": null,
            "grid_column": null,
            "grid_gap": null,
            "grid_row": null,
            "grid_template_areas": null,
            "grid_template_columns": null,
            "grid_template_rows": null,
            "height": null,
            "justify_content": null,
            "justify_items": null,
            "left": null,
            "margin": null,
            "max_height": null,
            "max_width": null,
            "min_height": null,
            "min_width": null,
            "object_fit": null,
            "object_position": null,
            "order": null,
            "overflow": null,
            "overflow_x": null,
            "overflow_y": null,
            "padding": null,
            "right": null,
            "top": null,
            "visibility": null,
            "width": null
          }
        },
        "5d0278a4a3bb4af798f4f24f4a86d448": {
          "model_module": "@jupyter-widgets/controls",
          "model_name": "IntSliderModel",
          "model_module_version": "1.5.0",
          "state": {
            "_dom_classes": [],
            "_model_module": "@jupyter-widgets/controls",
            "_model_module_version": "1.5.0",
            "_model_name": "IntSliderModel",
            "_view_count": null,
            "_view_module": "@jupyter-widgets/controls",
            "_view_module_version": "1.5.0",
            "_view_name": "IntSliderView",
            "continuous_update": true,
            "description": "",
            "description_tooltip": null,
            "disabled": false,
            "layout": "IPY_MODEL_75cacda04c5745878e2cfec77e6a3047",
            "max": 300,
            "min": 100,
            "orientation": "horizontal",
            "readout": true,
            "readout_format": "d",
            "step": 1,
            "style": "IPY_MODEL_83eeaa0a98ef441b8e676e3720faa619",
            "value": 222
          }
        },
        "75cacda04c5745878e2cfec77e6a3047": {
          "model_module": "@jupyter-widgets/base",
          "model_name": "LayoutModel",
          "model_module_version": "1.2.0",
          "state": {
            "_model_module": "@jupyter-widgets/base",
            "_model_module_version": "1.2.0",
            "_model_name": "LayoutModel",
            "_view_count": null,
            "_view_module": "@jupyter-widgets/base",
            "_view_module_version": "1.2.0",
            "_view_name": "LayoutView",
            "align_content": null,
            "align_items": null,
            "align_self": null,
            "border": null,
            "bottom": null,
            "display": null,
            "flex": null,
            "flex_flow": null,
            "grid_area": null,
            "grid_auto_columns": null,
            "grid_auto_flow": null,
            "grid_auto_rows": null,
            "grid_column": null,
            "grid_gap": null,
            "grid_row": null,
            "grid_template_areas": null,
            "grid_template_columns": null,
            "grid_template_rows": null,
            "height": null,
            "justify_content": null,
            "justify_items": null,
            "left": null,
            "margin": null,
            "max_height": null,
            "max_width": null,
            "min_height": null,
            "min_width": null,
            "object_fit": null,
            "object_position": null,
            "order": null,
            "overflow": null,
            "overflow_x": null,
            "overflow_y": null,
            "padding": null,
            "right": null,
            "top": null,
            "visibility": null,
            "width": null
          }
        },
        "83eeaa0a98ef441b8e676e3720faa619": {
          "model_module": "@jupyter-widgets/controls",
          "model_name": "SliderStyleModel",
          "model_module_version": "1.5.0",
          "state": {
            "_model_module": "@jupyter-widgets/controls",
            "_model_module_version": "1.5.0",
            "_model_name": "SliderStyleModel",
            "_view_count": null,
            "_view_module": "@jupyter-widgets/base",
            "_view_module_version": "1.2.0",
            "_view_name": "StyleView",
            "description_width": "",
            "handle_color": null
          }
        }
      }
    }
  },
  "cells": [
    {
      "cell_type": "markdown",
      "metadata": {
        "id": "view-in-github",
        "colab_type": "text"
      },
      "source": [
        "<a href=\"https://colab.research.google.com/github/Anonymous3017/AI-ML-Training/blob/main/Day_3_Ayush_Track_2.ipynb\" target=\"_parent\"><img src=\"https://colab.research.google.com/assets/colab-badge.svg\" alt=\"Open In Colab\"/></a>"
      ]
    },
    {
      "cell_type": "code",
      "execution_count": null,
      "metadata": {
        "id": "G7bLHkDZzeUh"
      },
      "outputs": [],
      "source": [
        "import ipywidgets as widgets"
      ]
    },
    {
      "cell_type": "code",
      "source": [
        "widgets.IntSlider(min=100, max=300)"
      ],
      "metadata": {
        "colab": {
          "base_uri": "https://localhost:8080/",
          "height": 49,
          "referenced_widgets": [
            "5d0278a4a3bb4af798f4f24f4a86d448",
            "75cacda04c5745878e2cfec77e6a3047",
            "83eeaa0a98ef441b8e676e3720faa619"
          ]
        },
        "id": "kF_VqOwCzq3u",
        "outputId": "d2472378-5909-4220-cc81-09671476c156"
      },
      "execution_count": null,
      "outputs": [
        {
          "output_type": "display_data",
          "data": {
            "text/plain": [
              "IntSlider(value=100, max=300, min=100)"
            ],
            "application/vnd.jupyter.widget-view+json": {
              "version_major": 2,
              "version_minor": 0,
              "model_id": "5d0278a4a3bb4af798f4f24f4a86d448"
            }
          },
          "metadata": {}
        }
      ]
    },
    {
      "cell_type": "code",
      "source": [
        "widgets.interact(lambda a:a**2,a=widgets.IntSlider(min=100, max=300))"
      ],
      "metadata": {
        "colab": {
          "base_uri": "https://localhost:8080/",
          "height": 84,
          "referenced_widgets": [
            "0a6b037e544b492a85e7cc598a8ec336",
            "6e1435e356854766b7f12b51dc16b5fa",
            "41fe2029ba1a490f976d06707c408f5f",
            "2ea64c61f7044c13b27c90afa73d531d",
            "4eedb8205eea48919b3cf8e1193616d2",
            "c9846f301bd14026a0eee00291f698a5",
            "b56389c2518442bea64e02215fbc1463"
          ]
        },
        "id": "i29XY3Ny0tMt",
        "outputId": "9088e591-8ac4-4ab8-88fd-458c7ff3cf78"
      },
      "execution_count": null,
      "outputs": [
        {
          "output_type": "display_data",
          "data": {
            "text/plain": [
              "interactive(children=(IntSlider(value=100, description='a', max=300, min=100), Output()), _dom_classes=('widge…"
            ],
            "application/vnd.jupyter.widget-view+json": {
              "version_major": 2,
              "version_minor": 0,
              "model_id": "0a6b037e544b492a85e7cc598a8ec336"
            }
          },
          "metadata": {}
        },
        {
          "output_type": "execute_result",
          "data": {
            "text/plain": [
              "<function __main__.<lambda>(a)>"
            ]
          },
          "metadata": {},
          "execution_count": 3
        }
      ]
    },
    {
      "cell_type": "code",
      "source": [
        "from IPython.display import display\n",
        "wid=widgets.IntSlider(min=100, max=300)\n",
        "display(wid)"
      ],
      "metadata": {
        "colab": {
          "base_uri": "https://localhost:8080/",
          "height": 49,
          "referenced_widgets": [
            "ca12009dbbd34d96983ffb5327ab2ff0",
            "07159c5a30f143249e05fdb0ec78efc3",
            "e9c74cbca391460bafcbb6ad4fa9009e"
          ]
        },
        "id": "r6aJcxkn1O5o",
        "outputId": "72ce1948-2ed1-4ddc-a6f2-fd34b7c3ea7b"
      },
      "execution_count": null,
      "outputs": [
        {
          "output_type": "display_data",
          "data": {
            "text/plain": [
              "IntSlider(value=100, max=300, min=100)"
            ],
            "application/vnd.jupyter.widget-view+json": {
              "version_major": 2,
              "version_minor": 0,
              "model_id": "ca12009dbbd34d96983ffb5327ab2ff0"
            }
          },
          "metadata": {}
        }
      ]
    },
    {
      "cell_type": "code",
      "source": [
        "#dropdown\n",
        "widgets.Dropdown(\n",
        "    options=[\"a\",\"b\",\"c\"],\n",
        "    description=\"alphabets\",\n",
        "    value=\"b\"\n",
        ")"
      ],
      "metadata": {
        "colab": {
          "base_uri": "https://localhost:8080/",
          "height": 49,
          "referenced_widgets": [
            "302038cf55be436bb530ca9e3a15fd31",
            "796b2532a4d244d8bccbe78f415cbfaa",
            "b6c2d154a5784dbe92531909670112d8"
          ]
        },
        "id": "vj7SSbx515pN",
        "outputId": "5f7e2778-91fb-41f1-f41f-fff99606c935"
      },
      "execution_count": null,
      "outputs": [
        {
          "output_type": "display_data",
          "data": {
            "text/plain": [
              "Dropdown(description='alphabets', index=1, options=('a', 'b', 'c'), value='b')"
            ],
            "application/vnd.jupyter.widget-view+json": {
              "version_major": 2,
              "version_minor": 0,
              "model_id": "302038cf55be436bb530ca9e3a15fd31"
            }
          },
          "metadata": {}
        }
      ]
    },
    {
      "cell_type": "code",
      "source": [
        "#textares\n",
        "widgets.Textarea(\n",
        "    placeholder=\"type something\",\n",
        "    description=\"Now write\"\n",
        ")"
      ],
      "metadata": {
        "colab": {
          "base_uri": "https://localhost:8080/",
          "height": 63,
          "referenced_widgets": [
            "521310242d3d40f2bd6a1589f8b9ba81",
            "f78b01df0d494a44b9bc3d8d63419f8c",
            "f34792aa93cb4d3c96cddc0854737e8a"
          ]
        },
        "id": "Hn1TE0sE2k3M",
        "outputId": "7026ad17-561b-443e-c01d-0a0971ecdbd0"
      },
      "execution_count": null,
      "outputs": [
        {
          "output_type": "display_data",
          "data": {
            "text/plain": [
              "Textarea(value='', description='Now write', placeholder='type something')"
            ],
            "application/vnd.jupyter.widget-view+json": {
              "version_major": 2,
              "version_minor": 0,
              "model_id": "521310242d3d40f2bd6a1589f8b9ba81"
            }
          },
          "metadata": {}
        }
      ]
    },
    {
      "cell_type": "code",
      "source": [
        "#buttons\n",
        "# b1 = widgets.buttons()\n",
        "#vBox/Hbox"
      ],
      "metadata": {
        "id": "CSgxHjJ33B_I"
      },
      "execution_count": null,
      "outputs": []
    },
    {
      "cell_type": "code",
      "source": [
        "#tab"
      ],
      "metadata": {
        "id": "3O5TF-Xr3r4s"
      },
      "execution_count": null,
      "outputs": []
    },
    {
      "cell_type": "code",
      "source": [
        "import pandas as pd\n",
        "from sklearn.datasets import load_iris\n",
        "iris = load_iris()\n",
        "\n",
        "\n",
        "# Create a Pandas DataFrame\n",
        "iris_df = pd.DataFrame(data=iris.data, columns=iris.feature_names)\n",
        "iris_df['target'] = iris.target"
      ],
      "metadata": {
        "id": "7qF5NLXX7VBr"
      },
      "execution_count": null,
      "outputs": []
    },
    {
      "cell_type": "code",
      "source": [
        "#function\n",
        "import matplotlib.pyplot as plt\n",
        "def create_Scatter(f1, f2):\n",
        "  fig=plt.figure(figsize=(8,5))\n",
        "\n",
        "  scat = plt.scatter(x = iris_df[f1],\n",
        "                     y=iris_df[f2],\n",
        "                     c=iris_df[\"target\"]\n",
        "                     )\n",
        "  plt.xlabel(f1)\n",
        "  plt.ylabel(f2)\n",
        "  plt.legend(*scat.legend_elements())\n",
        "  plt.title(f'{f1} vs {f2}')\n",
        "  plt.show()\n",
        "\n",
        "#widgets\n",
        "widgets.interact(create_Scatter, f1=iris.feature_names, f2=iris.feature_names)"
      ],
      "metadata": {
        "colab": {
          "base_uri": "https://localhost:8080/",
          "height": 568,
          "referenced_widgets": [
            "68b5dce2b3a8484782e4a9d6a75ecb2d",
            "22de281661cd41e7976678952025fff0",
            "072da3ab062048f7829cf25ff6f8b6bf",
            "207e5eb32bca4e35998c605678b8a6d6",
            "e84751d05abb448cace8e39fcf83251a",
            "8fe8b3c5c5fd4f4486be7a348a001e35",
            "099ed5e1dd9a41ae985cd43480e93c02",
            "6bd7bf41ed594be28e7034bcd5ac2619",
            "3898b6da6ce849d4a3e112a910b58832",
            "63b3e8d5e9304329bdc140e2397487cb"
          ]
        },
        "id": "gJh_7Mhl7duV",
        "outputId": "7b96c677-b3c6-47d8-a7cc-6e8445ea319a"
      },
      "execution_count": null,
      "outputs": [
        {
          "output_type": "display_data",
          "data": {
            "text/plain": [
              "interactive(children=(Dropdown(description='f1', options=('sepal length (cm)', 'sepal width (cm)', 'petal leng…"
            ],
            "application/vnd.jupyter.widget-view+json": {
              "version_major": 2,
              "version_minor": 0,
              "model_id": "68b5dce2b3a8484782e4a9d6a75ecb2d"
            }
          },
          "metadata": {}
        },
        {
          "output_type": "execute_result",
          "data": {
            "text/plain": [
              "<function __main__.create_Scatter(f1, f2)>"
            ]
          },
          "metadata": {},
          "execution_count": 11
        }
      ]
    },
    {
      "cell_type": "markdown",
      "source": [
        "# Task for inteactive scatter chat on No. of samples input"
      ],
      "metadata": {
        "id": "B9KGHX0iCCyM"
      }
    },
    {
      "cell_type": "code",
      "source": [
        "import pandas as pd\n",
        "from sklearn.datasets import load_iris\n",
        "import matplotlib.pyplot as plt\n",
        "import ipywidgets as widgets\n",
        "from ipywidgets import interactive, interact\n",
        "\n",
        "iris = load_iris()\n",
        "iris_df = pd.DataFrame(data=iris.data, columns=iris.feature_names)\n",
        "iris_df['target'] = iris.target\n",
        "\n",
        "\n",
        "def create_scatter(feature1, feature2, num_samples):\n",
        "    sampled_data = iris_df.sample(n=num_samples, random_state=42)\n",
        "\n",
        "    fig = plt.figure(figsize=(8, 5))\n",
        "    scat = plt.scatter(x=sampled_data[feature1], y=sampled_data[feature2], c=sampled_data[\"target\"])\n",
        "    plt.xlabel(feature1)\n",
        "    plt.ylabel(feature2)\n",
        "    plt.legend(*scat.legend_elements())\n",
        "    plt.title(f'{feature1} vs {feature2}')\n",
        "    plt.show()\n",
        "\n",
        "# Widgets\n",
        "feature1_dropdown = widgets.Dropdown(options=iris.feature_names, value=iris.feature_names[0], description='Feature 1')\n",
        "feature2_dropdown = widgets.Dropdown(options=iris.feature_names, value=iris.feature_names[1], description='Feature 2')\n",
        "samples_slider = widgets.IntSlider(min=1, max=len(iris_df), step=1, value=len(iris_df), description='Number of Samples')\n",
        "\n",
        "interact(create_scatter, feature1=feature1_dropdown, feature2=feature2_dropdown, num_samples=samples_slider)\n"
      ],
      "metadata": {
        "colab": {
          "base_uri": "https://localhost:8080/",
          "height": 600,
          "referenced_widgets": [
            "0fe7bf40361340bf86058e88d2852c70",
            "63dbac202c414b38900a36e8e6184611",
            "e4dd51daa9d9425a8bb99bf8c7802228",
            "a569d7d0f01644d1b714b66706989ad4",
            "5106c4a4af1449889c058815e168c0d5",
            "bc9b5507bad841fcae6ba204efe900d4",
            "b9aaa2010121409f921a384034ec68f1",
            "40ab6e8aaf0440ba9fb097c3b917535e",
            "6ed7d004662d44bbaedf7c95a74f4ab5",
            "1ee8ec59396b4568933044d264ed1e49",
            "2ede7da5584d4af39672962d25beade1",
            "157e577500de46eaa7d7239bed105d9f",
            "27204dfe7182498aa7bc42adab7a41c0"
          ]
        },
        "id": "CdauFU3PVM2A",
        "outputId": "76d20008-bc97-4cfb-bbe8-49ffa9bba4cc"
      },
      "execution_count": null,
      "outputs": [
        {
          "output_type": "display_data",
          "data": {
            "text/plain": [
              "interactive(children=(Dropdown(description='Feature 1', options=('sepal length (cm)', 'sepal width (cm)', 'pet…"
            ],
            "application/vnd.jupyter.widget-view+json": {
              "version_major": 2,
              "version_minor": 0,
              "model_id": "0fe7bf40361340bf86058e88d2852c70"
            }
          },
          "metadata": {}
        },
        {
          "output_type": "execute_result",
          "data": {
            "text/plain": [
              "<function __main__.create_scatter(feature1, feature2, num_samples)>"
            ]
          },
          "metadata": {},
          "execution_count": 13
        }
      ]
    },
    {
      "cell_type": "code",
      "source": [],
      "metadata": {
        "id": "-XjlAxrpVMys"
      },
      "execution_count": null,
      "outputs": []
    }
  ]
}