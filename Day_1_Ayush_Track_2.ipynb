{
  "nbformat": 4,
  "nbformat_minor": 0,
  "metadata": {
    "colab": {
      "provenance": [],
      "authorship_tag": "ABX9TyOIrR+pIf1XOhGWAJ1QDC/f",
      "include_colab_link": true
    },
    "kernelspec": {
      "name": "python3",
      "display_name": "Python 3"
    },
    "language_info": {
      "name": "python"
    }
  },
  "cells": [
    {
      "cell_type": "markdown",
      "metadata": {
        "id": "view-in-github",
        "colab_type": "text"
      },
      "source": [
        "<a href=\"https://colab.research.google.com/github/Anonymous3017/AI-ML-Training/blob/main/Day_1_Ayush_Track_2.ipynb\" target=\"_parent\"><img src=\"https://colab.research.google.com/assets/colab-badge.svg\" alt=\"Open In Colab\"/></a>"
      ]
    },
    {
      "cell_type": "code",
      "source": [
        "#Task for user deffined list\n",
        "no_of_Items = int(input(\"how many elements you want: \"))\n",
        "li=[]\n",
        "for i in range(0,no_of_Items):\n",
        "  items = int(input(\"Enter the element: \"))\n",
        "  li.append(items)\n",
        "li\n"
      ],
      "metadata": {
        "id": "xlndXOgIslcm",
        "colab": {
          "base_uri": "https://localhost:8080/"
        },
        "outputId": "b4a21233-9db8-4e06-98bd-d1201db362d9"
      },
      "execution_count": null,
      "outputs": [
        {
          "name": "stdout",
          "output_type": "stream",
          "text": [
            "how many elements you want: 5\n",
            "Enter the element: 1\n",
            "Enter the element: 2\n",
            "Enter the element: 3\n",
            "Enter the element: 4\n",
            "Enter the element: 5\n"
          ]
        },
        {
          "output_type": "execute_result",
          "data": {
            "text/plain": [
              "[1, 2, 3, 4, 5]"
            ]
          },
          "metadata": {},
          "execution_count": 4
        }
      ]
    },
    {
      "cell_type": "code",
      "source": [
        "#Lisyt comprehensiom\n",
        "li1 = [1,2,3,4,5]\n",
        "new_list = [i**2 if i%2==0 else i for i in range(1,11)]\n",
        "new_list"
      ],
      "metadata": {
        "colab": {
          "base_uri": "https://localhost:8080/"
        },
        "id": "v_oAPXv3OLPz",
        "outputId": "501ae89b-cc69-40d7-d8de-7d9f45a1cb45"
      },
      "execution_count": null,
      "outputs": [
        {
          "output_type": "execute_result",
          "data": {
            "text/plain": [
              "[1, 4, 3, 16, 5, 36, 7, 64, 9, 100]"
            ]
          },
          "metadata": {},
          "execution_count": 1
        }
      ]
    },
    {
      "cell_type": "code",
      "source": [
        "#Task for nested list comprehension\n",
        "original_grid = [[1,2,3,4,5],[6,7,8,9,10],[11,12,13,14,15]]\n",
        "\n",
        "new_grid = [ [i**2 if i%2==0 else i for i in row ] for row in original_grid]\n",
        "new_grid"
      ],
      "metadata": {
        "id": "OQGReLF2Ur2i",
        "colab": {
          "base_uri": "https://localhost:8080/"
        },
        "outputId": "24174de4-ed87-4cdd-deee-5ef8e538fa72"
      },
      "execution_count": null,
      "outputs": [
        {
          "output_type": "execute_result",
          "data": {
            "text/plain": [
              "[[1, 4, 3, 16, 5], [36, 7, 64, 9, 100], [11, 144, 13, 196, 15]]"
            ]
          },
          "metadata": {},
          "execution_count": 2
        }
      ]
    },
    {
      "cell_type": "code",
      "source": [
        "flatten_list = [element for row in new_grid for element in row]\n",
        "flatten_list"
      ],
      "metadata": {
        "colab": {
          "base_uri": "https://localhost:8080/"
        },
        "id": "8VWnugOw6uaI",
        "outputId": "ce6d5078-7d6b-4542-f118-2d43981448e2"
      },
      "execution_count": null,
      "outputs": [
        {
          "output_type": "execute_result",
          "data": {
            "text/plain": [
              "[1, 4, 3, 16, 5, 36, 7, 64, 9, 100, 11, 144, 13, 196, 15]"
            ]
          },
          "metadata": {},
          "execution_count": 3
        }
      ]
    },
    {
      "cell_type": "code",
      "source": [
        "#dict comprehension\n",
        "new_dict =  {i:i*i for i in range(1, 11)}\n",
        "new_dict"
      ],
      "metadata": {
        "colab": {
          "base_uri": "https://localhost:8080/"
        },
        "id": "1LKPWZjM73Ny",
        "outputId": "b0435b9a-2c12-445c-e395-02899608fadf"
      },
      "execution_count": null,
      "outputs": [
        {
          "output_type": "execute_result",
          "data": {
            "text/plain": [
              "{1: 1, 2: 4, 3: 9, 4: 16, 5: 25, 6: 36, 7: 49, 8: 64, 9: 81, 10: 100}"
            ]
          },
          "metadata": {},
          "execution_count": 4
        }
      ]
    },
    {
      "cell_type": "code",
      "source": [
        "#Task nested dictionary comprehension\n",
        "size = 5  # Size of the multiplication table (5x5)\n",
        "\n",
        "multiplication_table = {i: {j: i * j for j in range(1, size + 1)} for i in range(1, size + 1)}\n",
        "\n",
        "# Display the result\n",
        "for i in range(1, size + 1):\n",
        "    print(multiplication_table[i])"
      ],
      "metadata": {
        "colab": {
          "base_uri": "https://localhost:8080/"
        },
        "id": "jGOmT7i58tsK",
        "outputId": "6ff63cb6-29ce-43e0-9007-5bf5a0a20a81"
      },
      "execution_count": null,
      "outputs": [
        {
          "output_type": "stream",
          "name": "stdout",
          "text": [
            "{1: 1, 2: 2, 3: 3, 4: 4, 5: 5}\n",
            "{1: 2, 2: 4, 3: 6, 4: 8, 5: 10}\n",
            "{1: 3, 2: 6, 3: 9, 4: 12, 5: 15}\n",
            "{1: 4, 2: 8, 3: 12, 4: 16, 5: 20}\n",
            "{1: 5, 2: 10, 3: 15, 4: 20, 5: 25}\n"
          ]
        }
      ]
    },
    {
      "cell_type": "code",
      "source": [
        "#lambda\n",
        "\n",
        "n = lambda x : x**2\n",
        "print(n(2))"
      ],
      "metadata": {
        "colab": {
          "base_uri": "https://localhost:8080/"
        },
        "id": "ngwbvdtv9bRR",
        "outputId": "6413f741-69fb-49c6-9698-ef230cf4b94a"
      },
      "execution_count": null,
      "outputs": [
        {
          "output_type": "stream",
          "name": "stdout",
          "text": [
            "4\n"
          ]
        }
      ]
    },
    {
      "cell_type": "code",
      "source": [
        "#map\n",
        "n = list(map(int, input().split()))\n",
        "print('list:-', n)"
      ],
      "metadata": {
        "colab": {
          "base_uri": "https://localhost:8080/"
        },
        "id": "EdwqMQ1KMYyx",
        "outputId": "a427083e-04cc-4582-d848-da1f3b0375d2"
      },
      "execution_count": null,
      "outputs": [
        {
          "output_type": "stream",
          "name": "stdout",
          "text": [
            "1 2 3 4 5 6\n",
            "list:- [1, 2, 3, 4, 5, 6]\n"
          ]
        }
      ]
    },
    {
      "cell_type": "code",
      "source": [
        "#filter\n",
        "even_num =  list(filter(lambda x: x%2==0, [1, 2, 3, 4, 5]))\n",
        "even_num"
      ],
      "metadata": {
        "colab": {
          "base_uri": "https://localhost:8080/"
        },
        "id": "7MVjlPOXhFBq",
        "outputId": "a58addc2-1a54-4871-f4b7-b17e7d87b4d9"
      },
      "execution_count": null,
      "outputs": [
        {
          "output_type": "execute_result",
          "data": {
            "text/plain": [
              "[2, 4]"
            ]
          },
          "metadata": {},
          "execution_count": 10
        }
      ]
    },
    {
      "cell_type": "code",
      "source": [
        "#enumerate\n",
        "li = [1, 2, 3, 4, 5]\n",
        "list(enumerate(li, start = 11))"
      ],
      "metadata": {
        "colab": {
          "base_uri": "https://localhost:8080/"
        },
        "id": "dXGpvh8zm46E",
        "outputId": "72f636d3-dd5a-4f4b-8d45-f3c8dbf48280"
      },
      "execution_count": null,
      "outputs": [
        {
          "output_type": "execute_result",
          "data": {
            "text/plain": [
              "[(11, 1), (12, 2), (13, 3), (14, 4), (15, 5)]"
            ]
          },
          "metadata": {},
          "execution_count": 16
        }
      ]
    },
    {
      "cell_type": "code",
      "source": [],
      "metadata": {
        "id": "BqpsMk1OnsUA"
      },
      "execution_count": null,
      "outputs": []
    },
    {
      "cell_type": "markdown",
      "source": [
        "| Method        | Description                                               |\n",
        "|---------------|-----------------------------------------------------------|\n",
        "| capitalize()  | Converts the first character of the string to a capital (uppercase) letter |\n",
        "| casefold()    | Implements caseless string matching                        |\n",
        "| center()      | Pad the string with the specified character                |\n",
        "| count()       | Returns the number of occurrences of a substring in the string |\n",
        "| encode()      | Encodes strings with the specified encoded scheme          |\n",
        "| endswith()    | Returns “True” if a string ends with the given suffix       |\n",
        "| expandtabs()  | Specifies the amount of space to be substituted with the “\\t” symbol in the string |\n",
        "| find()        | Returns the lowest index of the substring if it is found    |\n",
        "| format()      | Formats the string for printing it to console               |\n",
        "| format_map()  | Formats specified values in a string using a dictionary    |\n",
        "| index()       | Returns the position of the first occurrence of a substring in a string |\n",
        "| isalnum()     | Checks whether all the characters in a given string are alphanumeric or not |\n",
        "| isalpha()     | Returns “True” if all characters in the string are alphabets |\n",
        "| isdecimal()   | Returns true if all characters in a string are decimal      |\n",
        "| isdigit()     | Returns “True” if all characters in the string are digits    |\n",
        "| isidentifier()| Check whether a string is a valid identifier or not         |\n",
        "| islower()     | Checks if all characters in the string are lowercase        |\n",
        "| isnumeric()   | Returns “True” if all characters in the string are numeric characters |\n",
        "| isprintable() | Returns “True” if all characters in the string are printable or the string is empty |\n",
        "| isspace()     | Returns “True” if all characters in the string are whitespace characters |\n",
        "| istitle()     | Returns “True” if the string is a title cased string         |\n",
        "| isupper()     | Checks if all characters in the string are uppercase        |\n",
        "| join()        | Returns a concatenated String                               |\n",
        "| ljust()       | Left aligns the string according to the width specified     |\n",
        "| lower()       | Converts all uppercase characters in a string into lowercase |\n",
        "| lstrip()      | Returns the string with leading characters removed          |\n",
        "| maketrans()   | Returns a translation table                                 |\n",
        "| partition()   | Splits the string at the first occurrence of the separator  |\n",
        "| replace()     | Replaces all occurrences of a substring with another substring |\n",
        "| rfind()       | Returns the highest index of the substring                  |\n",
        "| rindex()      | Returns the highest index of the substring inside the string |\n",
        "| rjust()       | Right aligns the string according to the width specified    |\n",
        "| rpartition()  | Split the given string into three parts                     |\n",
        "| rsplit()      | Split the string from the right by the specified separator  |\n",
        "| rstrip()      | Removes trailing characters                                  |\n",
        "| splitlines()  | Split the lines at line boundaries                           |\n",
        "| startswith()  | Returns “True” if a string starts with the given prefix      |\n",
        "| strip()       | Returns the string with both leading and trailing characters |\n",
        "| swapcase()    | Converts all uppercase characters to lowercase and vice versa |\n",
        "| title()       | Convert string to title case                                |\n",
        "| translate()   | Modify string according to given translation mappings       |\n",
        "| upper()       | Converts all lowercase characters in a string into uppercase |\n",
        "| zfill()       | Returns a copy of the string with ‘0’ characters padded to the left side of the string |\n"
      ],
      "metadata": {
        "id": "c9MpOVymtk42"
      }
    },
    {
      "cell_type": "code",
      "source": [
        "text = \"hello world\"\n",
        "capitalized_text = text.capitalize()\n",
        "print(capitalized_text)"
      ],
      "metadata": {
        "colab": {
          "base_uri": "https://localhost:8080/"
        },
        "id": "6fX8nFE-tkA9",
        "outputId": "c066f7c7-39d2-4988-8fdd-d34366b12625"
      },
      "execution_count": null,
      "outputs": [
        {
          "output_type": "stream",
          "name": "stdout",
          "text": [
            "Hello world\n"
          ]
        }
      ]
    },
    {
      "cell_type": "code",
      "source": [
        "text = \"Hello World\"\n",
        "casefolded_text = text.casefold()\n",
        "print(casefolded_text)"
      ],
      "metadata": {
        "colab": {
          "base_uri": "https://localhost:8080/"
        },
        "id": "63RntYAu1ETE",
        "outputId": "69bdbdeb-9181-4e76-b858-3e67ec91bd05"
      },
      "execution_count": null,
      "outputs": [
        {
          "output_type": "stream",
          "name": "stdout",
          "text": [
            "hello world\n"
          ]
        }
      ]
    },
    {
      "cell_type": "code",
      "source": [
        "text = \"Python\"\n",
        "centered_text = text.center(12, '*')\n",
        "print(centered_text)"
      ],
      "metadata": {
        "colab": {
          "base_uri": "https://localhost:8080/"
        },
        "id": "zvHbqIow1Kgo",
        "outputId": "8bcd2844-2c5a-4819-cd32-a001b2b20868"
      },
      "execution_count": null,
      "outputs": [
        {
          "output_type": "stream",
          "name": "stdout",
          "text": [
            "***Python***\n"
          ]
        }
      ]
    },
    {
      "cell_type": "code",
      "source": [
        "text = \"apple orange apple banana apple\"\n",
        "count_apple = text.count(\"apple\")\n",
        "print(count_apple)"
      ],
      "metadata": {
        "colab": {
          "base_uri": "https://localhost:8080/"
        },
        "id": "sXcIrnHr1Vpt",
        "outputId": "2f53db09-99c9-47c6-dea1-44415b23069d"
      },
      "execution_count": null,
      "outputs": [
        {
          "output_type": "stream",
          "name": "stdout",
          "text": [
            "3\n"
          ]
        }
      ]
    },
    {
      "cell_type": "code",
      "source": [
        "text = \"hello\"\n",
        "encoded_text = text.encode(encoding='utf-8')\n",
        "print(encoded_text)"
      ],
      "metadata": {
        "colab": {
          "base_uri": "https://localhost:8080/"
        },
        "id": "OQSHRoik1rSj",
        "outputId": "df71d6d2-db7f-4f4f-8c55-bf65cc3e9b36"
      },
      "execution_count": null,
      "outputs": [
        {
          "output_type": "stream",
          "name": "stdout",
          "text": [
            "b'hello'\n"
          ]
        }
      ]
    },
    {
      "cell_type": "code",
      "source": [
        "text = \"Hello World\"\n",
        "ends_with_world = text.endswith(\"World\")\n",
        "print(ends_with_world)"
      ],
      "metadata": {
        "colab": {
          "base_uri": "https://localhost:8080/"
        },
        "id": "i52HruJN11OC",
        "outputId": "f8c33b3d-4a4a-4d2d-8b44-2e5ac68f53b6"
      },
      "execution_count": null,
      "outputs": [
        {
          "output_type": "stream",
          "name": "stdout",
          "text": [
            "True\n"
          ]
        }
      ]
    },
    {
      "cell_type": "code",
      "source": [
        "text = \"Hello\\tWorld\"\n",
        "expanded_text = text.expandtabs(4)\n",
        "print(expanded_text)\n",
        "expanded_text = text.expandtabs(10)\n",
        "print(expanded_text)"
      ],
      "metadata": {
        "colab": {
          "base_uri": "https://localhost:8080/"
        },
        "id": "EnetdqvK19VA",
        "outputId": "54517705-cde3-4742-8f9d-12a71a0e3757"
      },
      "execution_count": null,
      "outputs": [
        {
          "output_type": "stream",
          "name": "stdout",
          "text": [
            "Hello   World\n",
            "Hello     World\n"
          ]
        }
      ]
    },
    {
      "cell_type": "code",
      "source": [
        "text = \"Hello World\"\n",
        "index_world = text.find(\"World\")\n",
        "print(index_world)"
      ],
      "metadata": {
        "colab": {
          "base_uri": "https://localhost:8080/"
        },
        "id": "vS0AxFsD2OTX",
        "outputId": "90c60c7b-535e-4dc3-bc80-9ca66f86d3f2"
      },
      "execution_count": null,
      "outputs": [
        {
          "output_type": "stream",
          "name": "stdout",
          "text": [
            "6\n"
          ]
        }
      ]
    },
    {
      "cell_type": "code",
      "source": [
        "# format()\tFormats the string for printing it to console\n",
        "name = \"Ayush\"\n",
        "age = 21\n",
        "formatted_string = \"My name is {} and I am {} years old.\".format(name, age)\n",
        "print(formatted_string)\n"
      ],
      "metadata": {
        "colab": {
          "base_uri": "https://localhost:8080/"
        },
        "id": "l6S4NGxI2fMZ",
        "outputId": "23db7a49-07cc-4ddf-fdcc-c9c53070a24c"
      },
      "execution_count": null,
      "outputs": [
        {
          "output_type": "stream",
          "name": "stdout",
          "text": [
            "My name is Ayush and I am 21 years old.\n"
          ]
        }
      ]
    },
    {
      "cell_type": "code",
      "source": [
        "# format_map()\tFormats specified values in a string using a dictionary\n",
        "person = {'name': 'Ayush', 'age': 21}\n",
        "formatted_string = \"My name is {name} and I am {age} years old.\".format_map(person)\n",
        "print(formatted_string)"
      ],
      "metadata": {
        "colab": {
          "base_uri": "https://localhost:8080/"
        },
        "id": "iwQVMG0222VT",
        "outputId": "39443ea5-f097-4eea-cc8e-32f564de2283"
      },
      "execution_count": null,
      "outputs": [
        {
          "output_type": "stream",
          "name": "stdout",
          "text": [
            "My name is Ayush and I am 21 years old.\n"
          ]
        }
      ]
    },
    {
      "cell_type": "code",
      "source": [
        "# index()\tReturns the position of the first occurrence of a substring in a string\n",
        "text = \"Hello World\"\n",
        "index_world = text.index(\"World\")\n",
        "print(index_world)"
      ],
      "metadata": {
        "colab": {
          "base_uri": "https://localhost:8080/"
        },
        "id": "QD78InvY3EGi",
        "outputId": "4cca3f03-6070-470b-b4ee-7f958fead4e2"
      },
      "execution_count": null,
      "outputs": [
        {
          "output_type": "stream",
          "name": "stdout",
          "text": [
            "6\n"
          ]
        }
      ]
    },
    {
      "cell_type": "code",
      "source": [
        "# isalnum()\tChecks whether all the characters in a given string are alphanumeric or not\n",
        "alphanumeric_string = \"ayush123\"\n",
        "is_alnum = alphanumeric_string.isalnum()\n",
        "print(is_alnum)\n",
        "\n",
        "non_alphanumeric_string = \"ayush&123\"\n",
        "is_alnum = non_alphanumeric_string.isalnum()\n",
        "print(is_alnum)"
      ],
      "metadata": {
        "colab": {
          "base_uri": "https://localhost:8080/"
        },
        "id": "BMSVVuXo3ZUQ",
        "outputId": "fdb49314-af92-4136-abff-61b23c6045fc"
      },
      "execution_count": null,
      "outputs": [
        {
          "output_type": "stream",
          "name": "stdout",
          "text": [
            "True\n",
            "False\n"
          ]
        }
      ]
    },
    {
      "cell_type": "code",
      "source": [
        "# isalpha()\tReturns “True” if all characters in the string are alphabets\n",
        "alpha_string = \"Ayush\"\n",
        "is_alpha = alpha_string.isalpha()\n",
        "print(is_alpha)\n",
        "\n",
        "non_alpha_string = \"ayush123\"\n",
        "is_alpha = non_alpha_string.isalpha()\n",
        "print(is_alpha)\n"
      ],
      "metadata": {
        "colab": {
          "base_uri": "https://localhost:8080/"
        },
        "id": "XlVlAaT-36_J",
        "outputId": "2cc0eabb-ae75-4043-d682-cdf4b645bf9a"
      },
      "execution_count": null,
      "outputs": [
        {
          "output_type": "stream",
          "name": "stdout",
          "text": [
            "True\n",
            "False\n"
          ]
        }
      ]
    },
    {
      "cell_type": "code",
      "source": [
        "# isdecimal()\tReturns true if all characters in a string are decimal\n",
        "decimal_string = \"12345\"\n",
        "is_decimal = decimal_string.isdecimal()\n",
        "print(is_decimal)\n",
        "\n",
        "non_decimal_string = \"12.345\"\n",
        "is_decimal = non_decimal_string.isdecimal()\n",
        "print(is_decimal)\n"
      ],
      "metadata": {
        "colab": {
          "base_uri": "https://localhost:8080/"
        },
        "id": "42D-p4QG4CqL",
        "outputId": "cdb8f0e4-8550-4cba-a0d5-54a4b4e46fc9"
      },
      "execution_count": null,
      "outputs": [
        {
          "output_type": "stream",
          "name": "stdout",
          "text": [
            "True\n",
            "False\n"
          ]
        }
      ]
    },
    {
      "cell_type": "code",
      "source": [
        "# isdigit()\tReturns “True” if all characters in the string are digits\n",
        "digit_string = \"12345\"\n",
        "is_digit = digit_string.isdigit()\n",
        "print(is_digit)\n",
        "\n",
        "non_digit_string = \"12E45\"\n",
        "is_digit = non_digit_string.isdigit()\n",
        "print(is_digit)"
      ],
      "metadata": {
        "colab": {
          "base_uri": "https://localhost:8080/"
        },
        "id": "i3VeofPF4VS4",
        "outputId": "5676d242-2e6c-4ddc-a2b8-29cdb1bbeb95"
      },
      "execution_count": null,
      "outputs": [
        {
          "output_type": "stream",
          "name": "stdout",
          "text": [
            "True\n",
            "False\n"
          ]
        }
      ]
    },
    {
      "cell_type": "code",
      "source": [
        "# isidentifier()\tCheck whether a string is a valid identifier or not\n",
        "valid_identifier = \"my_variable_1\"\n",
        "is_identifier = valid_identifier.isidentifier()\n",
        "print(is_identifier)\n",
        "invalid_identifier = \"1_invalid_variable\"\n",
        "is_identifier = invalid_identifier.isidentifier()\n",
        "print(is_identifier)\n"
      ],
      "metadata": {
        "colab": {
          "base_uri": "https://localhost:8080/"
        },
        "id": "Pd3HDPg94mO5",
        "outputId": "580322be-566c-43c9-fee6-38e34d0390ea"
      },
      "execution_count": null,
      "outputs": [
        {
          "output_type": "stream",
          "name": "stdout",
          "text": [
            "True\n",
            "False\n"
          ]
        }
      ]
    },
    {
      "cell_type": "code",
      "source": [
        "# islower()\tChecks if all characters in the string are lowercase\n",
        "lowercase_string = \"vanshika\"\n",
        "is_lower = lowercase_string.islower()\n",
        "print(is_lower)\n",
        "\n",
        "mixed_case_string = \"Vanshika\"\n",
        "is_lower = mixed_case_string.islower()\n",
        "print(is_lower)\n"
      ],
      "metadata": {
        "colab": {
          "base_uri": "https://localhost:8080/"
        },
        "id": "xb6WQpRX4-WA",
        "outputId": "95f120e6-0347-4a28-ad8e-e2c1467360ab"
      },
      "execution_count": null,
      "outputs": [
        {
          "output_type": "stream",
          "name": "stdout",
          "text": [
            "True\n",
            "False\n"
          ]
        }
      ]
    },
    {
      "cell_type": "code",
      "source": [
        "# isnumeric()\tReturns “True” if all characters in the string are numeric characters\n",
        "numeric_string = \"12345\"\n",
        "is_numeric = numeric_string.isnumeric()\n",
        "print(is_numeric)\n",
        "\n",
        "non_numeric_string = \"12aysuh345\"\n",
        "is_numeric = non_numeric_string.isnumeric()\n",
        "print(is_numeric)\n"
      ],
      "metadata": {
        "colab": {
          "base_uri": "https://localhost:8080/"
        },
        "id": "LlDsrO-j5QCY",
        "outputId": "96c526f0-710c-4610-bd79-e95f57ec51aa"
      },
      "execution_count": null,
      "outputs": [
        {
          "output_type": "stream",
          "name": "stdout",
          "text": [
            "True\n",
            "False\n"
          ]
        }
      ]
    },
    {
      "cell_type": "code",
      "source": [
        "# isprintable()\tReturns “True” if all characters in the string are printable or the string is empty\n",
        "printable_string = \"Anjali Saxena\"\n",
        "is_printable = printable_string.isprintable()\n",
        "print(is_printable)\n",
        "\n",
        "non_printable_string = \"Ayush\\nGupta\"\n",
        "is_printable = non_printable_string.isprintable()\n",
        "print(is_printable)  # Output: False"
      ],
      "metadata": {
        "colab": {
          "base_uri": "https://localhost:8080/"
        },
        "id": "g1BiV0wK5kVF",
        "outputId": "61fa428f-3eda-48fd-fe81-ceb8843df2e9"
      },
      "execution_count": null,
      "outputs": [
        {
          "output_type": "stream",
          "name": "stdout",
          "text": [
            "True\n",
            "False\n"
          ]
        }
      ]
    },
    {
      "cell_type": "code",
      "source": [
        "# isspace()\tReturns “True” if all characters in the string are whitespace characters\n",
        "whitespace_string = \"   \\t  \\n\"\n",
        "is_whitespace = whitespace_string.isspace()\n",
        "print(is_whitespace)\n",
        "\n",
        "non_whitespace_string = \"kya  bhai\"\n",
        "is_whitespace = non_whitespace_string.isspace()\n",
        "print(is_whitespace)"
      ],
      "metadata": {
        "colab": {
          "base_uri": "https://localhost:8080/"
        },
        "id": "AuJsO4Yu57Uu",
        "outputId": "a786d812-9527-45cf-94be-a6f085fb8fe7"
      },
      "execution_count": null,
      "outputs": [
        {
          "output_type": "stream",
          "name": "stdout",
          "text": [
            "True\n",
            "False\n"
          ]
        }
      ]
    },
    {
      "cell_type": "code",
      "source": [
        "# istitle()\tReturns “True” if the string is a title cased string\n",
        "titlecased_string = \"The Legend Ayush\"\n",
        "is_title = titlecased_string.istitle()\n",
        "print(is_title)\n",
        "\n",
        "non_titlecased_string = \"duck Aysuh\"\n",
        "is_title = non_titlecased_string.istitle()\n",
        "print(is_title)\n"
      ],
      "metadata": {
        "colab": {
          "base_uri": "https://localhost:8080/"
        },
        "id": "yhJIhFbd6Lxi",
        "outputId": "b1d4ffb3-0c87-47af-dab0-b570e0006830"
      },
      "execution_count": null,
      "outputs": [
        {
          "output_type": "stream",
          "name": "stdout",
          "text": [
            "True\n",
            "False\n"
          ]
        }
      ]
    },
    {
      "cell_type": "code",
      "source": [
        "# isupper()\tChecks if all characters in the string are uppercase\n",
        "uppercase_string = \"AYUSH GUPTA\"\n",
        "is_upper = uppercase_string.isupper()\n",
        "print(is_upper)\n",
        "\n",
        "non_uppercase_string = \"chota ayush gupta\"\n",
        "is_upper = non_uppercase_string.isupper()\n",
        "print(is_upper)"
      ],
      "metadata": {
        "colab": {
          "base_uri": "https://localhost:8080/"
        },
        "id": "y6xJUzG-6h4t",
        "outputId": "24f5efcd-bf1b-40ca-c31f-0948cd2d0b45"
      },
      "execution_count": null,
      "outputs": [
        {
          "output_type": "stream",
          "name": "stdout",
          "text": [
            "True\n",
            "False\n"
          ]
        }
      ]
    },
    {
      "cell_type": "code",
      "source": [
        "# join()\tReturns a concatenated String\n",
        "separator = \"-\"\n",
        "words = [\"Ayush\", \"is\", \"a\", \"good\", \"person\"]\n",
        "joined_string = separator.join(words)\n",
        "print(joined_string)\n"
      ],
      "metadata": {
        "colab": {
          "base_uri": "https://localhost:8080/"
        },
        "id": "h_V2IEIA64_j",
        "outputId": "e3039f5e-e8f4-42f6-c608-d57f47836c9d"
      },
      "execution_count": null,
      "outputs": [
        {
          "output_type": "stream",
          "name": "stdout",
          "text": [
            "Ayush-is-a-good-person\n"
          ]
        }
      ]
    },
    {
      "cell_type": "code",
      "source": [
        "# ljust()\tLeft aligns the string according to the width specified\n",
        "text = \"Sitara\"\n",
        "left_aligned_text = text.ljust(13, '*')\n",
        "print(left_aligned_text)"
      ],
      "metadata": {
        "colab": {
          "base_uri": "https://localhost:8080/"
        },
        "id": "65DbLY177cyU",
        "outputId": "8a3bd488-f398-4d1d-d132-333777ce0435"
      },
      "execution_count": null,
      "outputs": [
        {
          "output_type": "stream",
          "name": "stdout",
          "text": [
            "Sitara*******\n"
          ]
        }
      ]
    },
    {
      "cell_type": "code",
      "source": [
        "# lower()\tConverts all uppercase characters in a string into lowercase\n",
        "uppercase_string = \"BELIVE ME NOT!\"\n",
        "lowercase_string = uppercase_string.lower()\n",
        "print(lowercase_string)\n"
      ],
      "metadata": {
        "colab": {
          "base_uri": "https://localhost:8080/"
        },
        "id": "5R02EBrB7pfR",
        "outputId": "e1f5fa70-e1eb-43da-9f1c-b8f26b5ce306"
      },
      "execution_count": null,
      "outputs": [
        {
          "output_type": "stream",
          "name": "stdout",
          "text": [
            "belive me not!\n"
          ]
        }
      ]
    },
    {
      "cell_type": "code",
      "source": [
        "# lstrip()\tReturns the string with leading characters removed\n",
        "text = \"         peeche space hai usko hta diya hai\"\n",
        "stripped_text = text.lstrip()\n",
        "print(stripped_text)"
      ],
      "metadata": {
        "colab": {
          "base_uri": "https://localhost:8080/"
        },
        "id": "7AbcJ8kU7_xJ",
        "outputId": "21486d48-3ad5-4499-9a1b-7f9d88eb50a7"
      },
      "execution_count": null,
      "outputs": [
        {
          "output_type": "stream",
          "name": "stdout",
          "text": [
            "peeche space hai usko hta diya hai\n"
          ]
        }
      ]
    },
    {
      "cell_type": "code",
      "source": [
        "# maketrans()\tReturns a translation table\n",
        "translation_table = str.maketrans('Ayush', 'Anajl')\n",
        "text = \"Ayush is bad actually\"\n",
        "translated_text = text.translate(translation_table)\n",
        "print(translated_text)\n",
        "print(\"Not got what i want 🤡\")"
      ],
      "metadata": {
        "colab": {
          "base_uri": "https://localhost:8080/"
        },
        "id": "--pYk41p8LQp",
        "outputId": "bff88170-c58c-4003-cf0a-341d05e8af12"
      },
      "execution_count": null,
      "outputs": [
        {
          "output_type": "stream",
          "name": "stdout",
          "text": [
            "Anajl ij bad actaalln\n",
            "Not got what i want 🤡\n"
          ]
        }
      ]
    },
    {
      "cell_type": "code",
      "source": [
        "# partition()\tSplits the string at the first occurrence of the separator\n",
        "text = \"AYsuh Gupta\"\n",
        "parted_text = text.partition(\" \")\n",
        "print(parted_text)\n"
      ],
      "metadata": {
        "colab": {
          "base_uri": "https://localhost:8080/"
        },
        "id": "NbbPJb088vgs",
        "outputId": "f3394456-ba52-4c99-d613-22b49c09dc71"
      },
      "execution_count": null,
      "outputs": [
        {
          "output_type": "stream",
          "name": "stdout",
          "text": [
            "('AYsuh', ' ', 'Gupta')\n"
          ]
        }
      ]
    },
    {
      "cell_type": "code",
      "source": [
        "# replace()\tReplaces all occurrences of a substring with another substring\n",
        "text = \"Ayush is a bad person actually\"\n",
        "replaced_text = text.replace(\"Ayush\", \"Anjali\")\n",
        "print(replaced_text)\n",
        "print(\"Goocha 😂😂\")"
      ],
      "metadata": {
        "colab": {
          "base_uri": "https://localhost:8080/"
        },
        "id": "t5Tqxb7y9ztb",
        "outputId": "22bcb55a-3a00-43ca-c236-eaa0047ebec1"
      },
      "execution_count": null,
      "outputs": [
        {
          "output_type": "stream",
          "name": "stdout",
          "text": [
            "Anjali is a bad person actually\n",
            "Goocha 😂😂\n"
          ]
        }
      ]
    },
    {
      "cell_type": "code",
      "source": [
        "# rfind()\tReturns the highest index of the substring\n",
        "text = \"Hi bhai, kaisa kahisa hai bhai, mst bhai, tu bta\"\n",
        "index_world = text.rfind(\"bhai\")\n",
        "print(index_world)"
      ],
      "metadata": {
        "colab": {
          "base_uri": "https://localhost:8080/"
        },
        "id": "b95yIOxr-K-y",
        "outputId": "67ee7858-03e3-48f2-a823-0fedeca1a5bc"
      },
      "execution_count": null,
      "outputs": [
        {
          "output_type": "stream",
          "name": "stdout",
          "text": [
            "36\n"
          ]
        }
      ]
    },
    {
      "cell_type": "code",
      "source": [
        "# rindex()\tReturns the highest index of the substring inside the string\n",
        "text = \"Hello World\"\n",
        "index_world = text.rindex(\"World\")\n",
        "print(index_world)"
      ],
      "metadata": {
        "colab": {
          "base_uri": "https://localhost:8080/"
        },
        "id": "3Ed90-nq-vVr",
        "outputId": "1d40cc3c-ce48-46f2-b6e3-65eb20ad7387"
      },
      "execution_count": null,
      "outputs": [
        {
          "output_type": "stream",
          "name": "stdout",
          "text": [
            "6\n"
          ]
        }
      ]
    },
    {
      "cell_type": "code",
      "source": [
        "# rjust()\tRight aligns the string according to the width specified\n",
        "text = \"peecheSitare\"\n",
        "right_aligned_text = text.rjust(20, '*')\n",
        "print(right_aligned_text)"
      ],
      "metadata": {
        "colab": {
          "base_uri": "https://localhost:8080/"
        },
        "id": "Qos1bFkO_APw",
        "outputId": "9a4af480-8496-4591-b2ce-f6dbaf3ce3e2"
      },
      "execution_count": null,
      "outputs": [
        {
          "output_type": "stream",
          "name": "stdout",
          "text": [
            "********peecheSitare\n"
          ]
        }
      ]
    },
    {
      "cell_type": "code",
      "source": [
        "# rpartition()\tSplit the given string into three parts\n",
        "text = \"ek/dow/teen\"\n",
        "parted_text = text.rpartition(\"/\")\n",
        "print(parted_text)"
      ],
      "metadata": {
        "colab": {
          "base_uri": "https://localhost:8080/"
        },
        "id": "fUd_UimF_LW5",
        "outputId": "76189a71-e50b-461d-9111-e160a0132028"
      },
      "execution_count": null,
      "outputs": [
        {
          "output_type": "stream",
          "name": "stdout",
          "text": [
            "('ek/dow', '/', 'teen')\n"
          ]
        }
      ]
    },
    {
      "cell_type": "code",
      "source": [
        "# rsplit()\tSplit the string from the right by the specified separator\n",
        "text = \"ayush is trying to understand\"\n",
        "split_text = text.rsplit(\" \", 3)\n",
        "print(split_text)\n"
      ],
      "metadata": {
        "colab": {
          "base_uri": "https://localhost:8080/"
        },
        "id": "dgVVZhyw_fzz",
        "outputId": "17075632-7cf4-40d2-90f6-7af74ace56b7"
      },
      "execution_count": null,
      "outputs": [
        {
          "output_type": "stream",
          "name": "stdout",
          "text": [
            "['ayush is', 'trying', 'to', 'understand']\n"
          ]
        }
      ]
    },
    {
      "cell_type": "code",
      "source": [
        "# rstrip()\tRemoves trailing characters\n",
        "text = \"        space hi space          \"\n",
        "stripped_text = text.rstrip()\n",
        "print(stripped_text)"
      ],
      "metadata": {
        "colab": {
          "base_uri": "https://localhost:8080/"
        },
        "id": "77cxEr0F_8FU",
        "outputId": "f160c618-fe12-4d19-d5f4-386530e74a18"
      },
      "execution_count": null,
      "outputs": [
        {
          "output_type": "stream",
          "name": "stdout",
          "text": [
            "        space hi space\n"
          ]
        }
      ]
    },
    {
      "cell_type": "code",
      "source": [
        "# splitlines()\tSplit the lines at line boundaries\n",
        "text = \"alag\\nbsat\\ndow\"\n",
        "lines = text.splitlines()\n",
        "print(lines)"
      ],
      "metadata": {
        "colab": {
          "base_uri": "https://localhost:8080/"
        },
        "id": "R8n6oWSrANhL",
        "outputId": "38dc8683-b9de-4e8e-d9d2-96e51220a039"
      },
      "execution_count": null,
      "outputs": [
        {
          "output_type": "stream",
          "name": "stdout",
          "text": [
            "['alag', 'bsat', 'dow']\n"
          ]
        }
      ]
    },
    {
      "cell_type": "code",
      "source": [
        "# startswith()\tReturns “True” if a string starts with the given prefix\n",
        "text = \"Aysuh gupta\"\n",
        "starts_with_hello = text.startswith(\"Aysuh\")\n",
        "print(starts_with_hello)\n"
      ],
      "metadata": {
        "colab": {
          "base_uri": "https://localhost:8080/"
        },
        "id": "pMCeN-jdAoW6",
        "outputId": "77174f50-3790-4fcb-e81c-15dd2e751578"
      },
      "execution_count": null,
      "outputs": [
        {
          "output_type": "stream",
          "name": "stdout",
          "text": [
            "True\n"
          ]
        }
      ]
    },
    {
      "cell_type": "code",
      "source": [
        "# strip()\tReturns the string with both leading and trailing characters\n",
        "text = \"   aage or peeche dono ka extra space gayab         \"\n",
        "stripped_text = text.strip()\n",
        "print(stripped_text)\n"
      ],
      "metadata": {
        "colab": {
          "base_uri": "https://localhost:8080/"
        },
        "id": "JZ4ye-gJA6gp",
        "outputId": "a4a13616-85e0-429d-ca09-31eeae72735b"
      },
      "execution_count": null,
      "outputs": [
        {
          "output_type": "stream",
          "name": "stdout",
          "text": [
            "aage or peeche dono ka extra space gayab\n"
          ]
        }
      ]
    },
    {
      "cell_type": "code",
      "source": [
        "# swapcase()\tConverts all uppercase characters to lowercase and vice versa\n",
        "text = 'Ayush Write IN UPPER case THAT Gonna BE Swap'\n",
        "swapped_case =  text.swapcase()\n",
        "print(swapped_case)"
      ],
      "metadata": {
        "colab": {
          "base_uri": "https://localhost:8080/"
        },
        "id": "AAdkUdKFBBpB",
        "outputId": "aeff9020-9f1f-4479-d0fb-6714a388c677"
      },
      "execution_count": null,
      "outputs": [
        {
          "output_type": "stream",
          "name": "stdout",
          "text": [
            "aYUSH wRITE in upper CASE that gONNA be sWAP\n"
          ]
        }
      ]
    },
    {
      "cell_type": "code",
      "source": [
        "# title()\tConvert string to title case\n",
        "text = \"ayush gupta\"\n",
        "titlecased_text = text.title()\n",
        "print(titlecased_text)\n"
      ],
      "metadata": {
        "colab": {
          "base_uri": "https://localhost:8080/"
        },
        "id": "EjHxIKfvBj_j",
        "outputId": "6020d78c-4428-4778-f5ea-39c65ac73f65"
      },
      "execution_count": null,
      "outputs": [
        {
          "output_type": "stream",
          "name": "stdout",
          "text": [
            "Ayush Gupta\n"
          ]
        }
      ]
    },
    {
      "cell_type": "code",
      "source": [
        "# translate()\tModify string according to given translation mappings\n",
        "intab = \"aeiou\"\n",
        "outtab = \"12345\"\n",
        "translation_table = str.maketrans(intab, outtab)\n",
        "text = \"sonu nigam\"\n",
        "translated_text = text.translate(translation_table)\n",
        "print(translated_text)\n"
      ],
      "metadata": {
        "colab": {
          "base_uri": "https://localhost:8080/"
        },
        "id": "Ydi0ar9CBw_s",
        "outputId": "a3eba947-c4d1-46a2-9b28-048e104255db"
      },
      "execution_count": null,
      "outputs": [
        {
          "output_type": "stream",
          "name": "stdout",
          "text": [
            "s4n5 n3g1m\n"
          ]
        }
      ]
    },
    {
      "cell_type": "code",
      "source": [
        "# upper()\tConverts all lowercase characters in a string into uppercase\n",
        "lowercase_string = \"chaota chota\"\n",
        "uppercase_string = lowercase_string.upper()\n",
        "print(uppercase_string)\n"
      ],
      "metadata": {
        "colab": {
          "base_uri": "https://localhost:8080/"
        },
        "id": "19qpgIQ0CB9T",
        "outputId": "dcc2cd39-1f13-4a0f-9118-357ca2c3895e"
      },
      "execution_count": null,
      "outputs": [
        {
          "output_type": "stream",
          "name": "stdout",
          "text": [
            "CHAOTA CHOTA\n"
          ]
        }
      ]
    },
    {
      "cell_type": "code",
      "source": [
        "# zfill()\tReturns a copy of the string with ‘0’ characters padded to the left side of the string\n",
        "number = \"7\"\n",
        "zero_padded_number = number.zfill(3)\n",
        "print(zero_padded_number)"
      ],
      "metadata": {
        "colab": {
          "base_uri": "https://localhost:8080/"
        },
        "id": "0_NCdbDXCaVj",
        "outputId": "5fdab11e-72cb-4952-e3e0-7cf3ee1b9ecc"
      },
      "execution_count": null,
      "outputs": [
        {
          "output_type": "stream",
          "name": "stdout",
          "text": [
            "007\n"
          ]
        }
      ]
    },
    {
      "cell_type": "code",
      "source": [],
      "metadata": {
        "id": "GQhKQjpVCpQ0"
      },
      "execution_count": null,
      "outputs": []
    },
    {
      "cell_type": "code",
      "source": [
        "# Anagram Checker:\n",
        "\n",
        "# Task: Create a function to determine if two strings are anagrams (contain the same characters with the same frequency).\n",
        "# Example: Input: \"listen\", \"silent\", Output: True\n",
        "\n",
        "def are_anagrams(str1, str2):\n",
        "  str1 = str1.replace(\" \",\"\").lower()\n",
        "  str2 = str2.replace(\" \",\"\").lower()\n",
        "\n",
        "  return sorted(str1) == sorted(str2)\n",
        "\n",
        "are_anagrams(\"listen\",\"silent\")"
      ],
      "metadata": {
        "colab": {
          "base_uri": "https://localhost:8080/"
        },
        "id": "aiXOq3XNCzEm",
        "outputId": "eaaac175-dee4-4ec1-8d57-4719e497e358"
      },
      "execution_count": null,
      "outputs": [
        {
          "output_type": "execute_result",
          "data": {
            "text/plain": [
              "True"
            ]
          },
          "metadata": {},
          "execution_count": 119
        }
      ]
    },
    {
      "cell_type": "code",
      "source": [
        "# String Compression:\n",
        "\n",
        "# Task: Implement a function to perform basic string compression using the counts of repeated characters.\n",
        "# Example: Input: \"aabcccccaaa\", Output: \"a2b1c5a3\"\n",
        "\n",
        "def compress_string(s):\n",
        "    compressed_string = \"\"\n",
        "    count = 1\n",
        "\n",
        "    for i in range(1, len(s)):\n",
        "        if s[i] == s[i - 1]:\n",
        "            count += 1\n",
        "        else:\n",
        "            compressed_string += s[i - 1] + str(count)\n",
        "            count = 1\n",
        "\n",
        "    # Append the last character and its count\n",
        "    compressed_string += s[-1] + str(count)\n",
        "\n",
        "\n",
        "    return compressed_string\n",
        "\n",
        "# Example usage:\n",
        "input_string = \"aabcccccaaa\"\n",
        "output_string = compress_string(input_string)\n",
        "print(output_string)\n"
      ],
      "metadata": {
        "colab": {
          "base_uri": "https://localhost:8080/"
        },
        "id": "3ouvU0MILOsk",
        "outputId": "9dd5ef5b-6e2d-4a76-a886-31ac7a6a1d5f"
      },
      "execution_count": null,
      "outputs": [
        {
          "output_type": "stream",
          "name": "stdout",
          "text": [
            "a2b1c5a3\n"
          ]
        }
      ]
    },
    {
      "cell_type": "code",
      "source": [
        "# Longest Common Prefix:\n",
        "\n",
        "# Task: Write a function to find the longest common prefix string amongst an array of strings.\n",
        "#Example: Input: [\"flower\", \"flow\", \"flight\"], Output: \"fl\"\n",
        "\n",
        "def longest_common_prefix(strs):\n",
        "    if not strs:\n",
        "        return \"\"\n",
        "\n",
        "    strs.sort()\n",
        "\n",
        "    first_str = strs[0]\n",
        "    last_str = strs[-1]\n",
        "\n",
        "    common_prefix = []\n",
        "    for i in range(len(first_str)):\n",
        "        if i < len(last_str) and first_str[i] == last_str[i]:\n",
        "            common_prefix.append(first_str[i])\n",
        "        else:\n",
        "            break\n",
        "\n",
        "    return \"\".join(common_prefix)\n",
        "\n",
        "input_strings = [\"flower\", \"flow\", \"flight\"]\n",
        "output_prefix = longest_common_prefix(input_strings)\n",
        "print(f'the longest common prefix is {output_prefix}')"
      ],
      "metadata": {
        "colab": {
          "base_uri": "https://localhost:8080/"
        },
        "id": "4qGmvRdOeoc5",
        "outputId": "e96154e1-1a0c-477c-fdcc-b6079948923a"
      },
      "execution_count": null,
      "outputs": [
        {
          "output_type": "stream",
          "name": "stdout",
          "text": [
            "the longest common prefix is fl\n"
          ]
        }
      ]
    },
    {
      "cell_type": "code",
      "source": [
        "# Rotated Palindrome:\n",
        "\n",
        "# Task: Determine if a given string is a rotated palindrome of another string.\n",
        "# Example: Input: \"racecar\", \"carerace\", Output: True\n",
        "def is_rotated_palindrome(str1, str2):\n",
        "    # Check if the original string is a palindrome\n",
        "    def is_palindrome(s):\n",
        "        return s == s[::-1]\n",
        "\n",
        "    # Check if the rotated string is equal to the original string\n",
        "    for i in range(len(str1)):\n",
        "        rotated_str = str1[i:] + str1[:i]\n",
        "        if rotated_str == str2 and is_palindrome(str1):\n",
        "            return True\n",
        "\n",
        "    return False\n",
        "\n",
        "\n",
        "result = is_rotated_palindrome(\"racecar\", \"carrace\")\n",
        "print(result)\n",
        "\n",
        "\n"
      ],
      "metadata": {
        "colab": {
          "base_uri": "https://localhost:8080/"
        },
        "id": "Y1CMVAaVf8q5",
        "outputId": "732e53e1-2459-4751-dd28-3aba48f25630"
      },
      "execution_count": null,
      "outputs": [
        {
          "output_type": "stream",
          "name": "stdout",
          "text": [
            "True\n"
          ]
        }
      ]
    },
    {
      "cell_type": "code",
      "source": [
        "# Count Vowels and Consonants\n",
        "# Task: Create a function to count the number of vowels and consonants in a given string.\n",
        "# Example: Input: \"hello world\", Output: Vowels: 3, Consonants: 7\n",
        "\n",
        "def count_vowels_and_consonants(s):\n",
        "  s = s.replace(\" \",\"\").lower()\n",
        "  vowels = 0\n",
        "  consonants = 0\n",
        "  v = ['a', 'e', 'i', 'o', 'u']\n",
        "  for i in range(len(s)):\n",
        "    if s[i] in v:\n",
        "      vowels += 1\n",
        "    else:\n",
        "      consonants += 1\n",
        "  return f'Vowels: {vowels}, Consonants: {consonants}'\n",
        "\n",
        "count_vowels_and_consonants('hello world')"
      ],
      "metadata": {
        "colab": {
          "base_uri": "https://localhost:8080/",
          "height": 35
        },
        "id": "64pVRFocC9nJ",
        "outputId": "f9c6587c-c6f5-4f81-9792-024b39570eaf"
      },
      "execution_count": null,
      "outputs": [
        {
          "output_type": "execute_result",
          "data": {
            "text/plain": [
              "'Vowels: 3, Consonants: 7'"
            ],
            "application/vnd.google.colaboratory.intrinsic+json": {
              "type": "string"
            }
          },
          "metadata": {},
          "execution_count": 3
        }
      ]
    },
    {
      "cell_type": "code",
      "source": [
        "# Unique Characters\n",
        "\n",
        "# Task: Write a function to determine if a string has all unique characters.\n",
        "# Example: Input: \"python\", Output: True\n",
        "\n",
        "def has_unique_characters(s):\n",
        "  s = sorted(s)\n",
        "  for i in range(1,len(s)):\n",
        "    if s[i] == s[i - 1]:\n",
        "      return False\n",
        "  return True\n",
        "\n",
        "has_unique_characters('python')"
      ],
      "metadata": {
        "colab": {
          "base_uri": "https://localhost:8080/"
        },
        "id": "-Ul0T6WTJAip",
        "outputId": "71fea113-2ae1-4778-a20c-51484e261727"
      },
      "execution_count": null,
      "outputs": [
        {
          "output_type": "execute_result",
          "data": {
            "text/plain": [
              "True"
            ]
          },
          "metadata": {},
          "execution_count": 12
        }
      ]
    },
    {
      "cell_type": "code",
      "source": [
        "# Camel Case Conversion:\n",
        "\n",
        "# Task: Convert a camel-case string to a space-separated string.\n",
        "# Example: Input: \"camelCaseConversion\", Output: \"camel Case Conversion\"\n",
        "\n",
        "def camel_case_to_spaces(s):\n",
        "    result = [s[0]]\n",
        "\n",
        "    for char in s[1:]:\n",
        "        if char.isupper():\n",
        "            result.append(' ')\n",
        "        result.append(char)\n",
        "\n",
        "    return ''.join(result)\n",
        "\n",
        "input_string = \"camelCaseConversion\"\n",
        "output_string = camel_case_to_spaces(input_string)\n",
        "print(output_string)"
      ],
      "metadata": {
        "colab": {
          "base_uri": "https://localhost:8080/"
        },
        "id": "AIjJTdgCNBi5",
        "outputId": "e09acc11-c27f-4a35-a209-edda53c1c096"
      },
      "execution_count": null,
      "outputs": [
        {
          "output_type": "stream",
          "name": "stdout",
          "text": [
            "camel Case Conversion\n"
          ]
        }
      ]
    },
    {
      "cell_type": "code",
      "source": [
        "# Parentheses Matching:\n",
        "\n",
        "# Task: Write a function to check if a given string has balanced parentheses.\n",
        "# Example: Input: \"((()))\", Output: True\n",
        "\n",
        "def is_balanced_parentheses(s):\n",
        "  counter = 0\n",
        "\n",
        "  for char in s:\n",
        "    if char == '(':\n",
        "      counter += 1\n",
        "    elif char == ')':\n",
        "      counter -= 1\n",
        "\n",
        "  if counter != 0:\n",
        "    return False\n",
        "  return counter == 0\n",
        "is_balanced_parentheses('((()))')"
      ],
      "metadata": {
        "colab": {
          "base_uri": "https://localhost:8080/"
        },
        "id": "9V5Fn1sBOSsG",
        "outputId": "c4c4f460-fa7f-4ce6-ed89-5ad66bd441d0"
      },
      "execution_count": null,
      "outputs": [
        {
          "output_type": "execute_result",
          "data": {
            "text/plain": [
              "True"
            ]
          },
          "metadata": {},
          "execution_count": 22
        }
      ]
    },
    {
      "cell_type": "code",
      "source": [],
      "metadata": {
        "id": "PRujOloyVVrJ"
      },
      "execution_count": null,
      "outputs": []
    },
    {
      "cell_type": "code",
      "source": [
        "# Question : To-Do List Manager\n",
        "\n",
        "# Create a simple command-line program that allows users to add, view, and remove items from a to-do list. Use a list to store the items.\n",
        "\n",
        "to_do_list = []\n",
        "\n",
        "def add_task(task):\n",
        "    to_do_list.append(task)\n",
        "    print(f'Task \"{task}\" added to the to-do list.')\n",
        "\n",
        "def view_tasks():\n",
        "    if not to_do_list:\n",
        "        print('To-do list is empty.')\n",
        "    else:\n",
        "        print('To-do List:')\n",
        "        for idx, task in enumerate(to_do_list, start=1):\n",
        "            print(f'{idx}. {task}')\n",
        "\n",
        "def remove_task(task_index):\n",
        "    if 1 <= task_index <= len(to_do_list):\n",
        "        removed_task = to_do_list.pop(task_index - 1)\n",
        "        print(f'Task \"{removed_task}\" removed from the to-do list.')\n",
        "    else:\n",
        "        print('Invalid task index.')\n",
        "\n",
        "# Example usage:\n",
        "add_task(\"submit day3 assignment\")\n",
        "add_task(\"submit day1 assignment\")\n",
        "view_tasks()\n",
        "remove_task(1)\n",
        "view_tasks()\n"
      ],
      "metadata": {
        "colab": {
          "base_uri": "https://localhost:8080/"
        },
        "id": "4viuzcjFYlt1",
        "outputId": "75d1db1a-a1a6-46b7-81ab-80f13ca00b81"
      },
      "execution_count": null,
      "outputs": [
        {
          "output_type": "stream",
          "name": "stdout",
          "text": [
            "Task \"submit day3 assignment\" added to the to-do list.\n",
            "Task \"submit day1 assignment\" added to the to-do list.\n",
            "To-do List:\n",
            "1. submit day3 assignment\n",
            "2. submit day1 assignment\n",
            "Task \"submit day3 assignment\" removed from the to-do list.\n",
            "To-do List:\n",
            "1. submit day1 assignment\n"
          ]
        }
      ]
    },
    {
      "cell_type": "code",
      "source": [
        "# Question : Guess the Number Game\n",
        "\n",
        "# Develop a number guessing game where the computer generates a random number, and the user tries to guess it.\n",
        "# Provide feedback on whether the guess is too high or too low.\n",
        "import numpy as np\n",
        "\n",
        "def guess_the_number():\n",
        "    random_no = np.random.randint(low=0, high=10)\n",
        "\n",
        "    while True:\n",
        "        user_ip = int(input('Guess the number between 0 to 10: '))\n",
        "        absolute_num = abs(random_no - user_ip)\n",
        "\n",
        "        if absolute_num > 2:\n",
        "            print('Too High')\n",
        "        elif absolute_num < 2:\n",
        "            print('Too Low')\n",
        "        else:\n",
        "            print('Right Guess')\n",
        "            break\n",
        "\n",
        "guess_the_number()\n"
      ],
      "metadata": {
        "colab": {
          "base_uri": "https://localhost:8080/"
        },
        "id": "w2SOGpziZZip",
        "outputId": "5bdcc6d1-483d-4c08-c42c-b206eb0d0f4c"
      },
      "execution_count": null,
      "outputs": [
        {
          "output_type": "stream",
          "name": "stdout",
          "text": [
            "Guess the number between 0 to 10: 7\n",
            "Too Low\n",
            "Guess the number between 0 to 10: 9\n",
            "Too High\n",
            "Guess the number between 0 to 10: 8\n",
            "Right Guess\n"
          ]
        }
      ]
    },
    {
      "cell_type": "code",
      "source": [
        "# Question : Password Generator\n",
        "\n",
        "# Create a tool that generates strong passwords with a specified length and complexity (uppercase, lowercase, digits, symbols).\n",
        "\n",
        "import random\n",
        "\n",
        "def generate_password():\n",
        "    length= int(input('Enter the length of the required password: '))\n",
        "    complexity= int(input('level of complexity for password from 1 to 5: '))\n",
        "    lowercase_chars = 'abcdefghijklmnopqrstuvwxyz'\n",
        "    uppercase_chars = 'ABCDEFGHIJKLMNOPQRSTUVWXYZ'\n",
        "    digit_chars = '0123456789'\n",
        "    symbol_chars = '!@#$%^&*()_-+=<>?'\n",
        "\n",
        "    password_chars = ''\n",
        "\n",
        "    if complexity >= 1:\n",
        "        password_chars += lowercase_chars\n",
        "    if complexity >= 2:\n",
        "        password_chars += uppercase_chars\n",
        "    if complexity >= 3:\n",
        "        password_chars += digit_chars\n",
        "    if complexity >= 4:\n",
        "        password_chars += symbol_chars\n",
        "\n",
        "    if not password_chars:\n",
        "        print(\"please give a valid complexity level. Password not generated.\")\n",
        "        return None\n",
        "\n",
        "    password = ''.join(random.choice(password_chars) for _ in range(length))\n",
        "    return password\n",
        "\n",
        "generated_password = generate_password()\n",
        "print(f'Generated Password: {generated_password}')\n"
      ],
      "metadata": {
        "colab": {
          "base_uri": "https://localhost:8080/"
        },
        "id": "1BEJI79dfbQh",
        "outputId": "e891747d-ae2d-4fd4-ad0a-42349eacca25"
      },
      "execution_count": null,
      "outputs": [
        {
          "output_type": "stream",
          "name": "stdout",
          "text": [
            "Enter the length of the required password: 8\n",
            "level of complexity for password from 1 to 5: 3\n",
            "Generated Password: fKJJA37J\n"
          ]
        }
      ]
    },
    {
      "cell_type": "code",
      "source": [
        "# Question : Caesar Cipher\n",
        "\n",
        "# Implement a simple Caesar cipher encryption program that shifts letters in a string by a specified number of positions.\n",
        "\n",
        "def caesar_cipher(text, shift):\n",
        "    result = \"\"\n",
        "\n",
        "    for char in text:\n",
        "        if char.isalpha():\n",
        "            ascii_offset = ord('a') if char.islower() else ord('A')\n",
        "            result += chr((ord(char) - ascii_offset + shift) % 26 + ascii_offset)\n",
        "        else:\n",
        "            result += char\n",
        "\n",
        "    return result\n",
        "\n",
        "original_text = \"ATTACKATONCE\"\n",
        "shift_amount = 4\n",
        "ciphered_text = caesar_cipher(original_text, shift_amount)\n",
        "print(f\"Original Text: {original_text}\")\n",
        "print(f\"Shift: {shift_amount} Cipher: {ciphered_text}\")\n"
      ],
      "metadata": {
        "colab": {
          "base_uri": "https://localhost:8080/"
        },
        "id": "lNF7olUwj4tL",
        "outputId": "0553a6ac-d44e-410d-9a96-c6b8d3ce1e4d"
      },
      "execution_count": null,
      "outputs": [
        {
          "output_type": "stream",
          "name": "stdout",
          "text": [
            "Original Text: ATTACKATONCE\n",
            "Shift: 4 Cipher: EXXEGOEXSRGI\n"
          ]
        }
      ]
    },
    {
      "cell_type": "code",
      "source": [
        "# Bonus Question: Decrypt the Caeser Cipher\n",
        "def caesar_decipher(ciphertext, shift):\n",
        "    return caesar_cipher(ciphertext, -shift)\n",
        "\n",
        "deciphered_text = caesar_decipher(ciphered_text, shift_amount)\n",
        "print(f\"Deciphered Text: {deciphered_text}\")\n"
      ],
      "metadata": {
        "colab": {
          "base_uri": "https://localhost:8080/"
        },
        "id": "aqe-Tne8lgRq",
        "outputId": "a26d6078-dcef-42dd-db3b-1fe775a7a688"
      },
      "execution_count": null,
      "outputs": [
        {
          "output_type": "stream",
          "name": "stdout",
          "text": [
            "Deciphered Text: ATTACKATONCE\n"
          ]
        }
      ]
    },
    {
      "cell_type": "code",
      "source": [
        "# Morse Code Converter: Create a program that converts text into Morse code and vice versa.\n",
        "MORSE_CODE_DICT = {'A': '.-', 'B': '-...', 'C': '-.-.', 'D': '-..', 'E': '.', 'F': '..-.', 'G': '--.',\n",
        "                   'H': '....', 'I': '..', 'J': '.---', 'K': '-.-', 'L': '.-..', 'M': '--', 'N': '-.',\n",
        "                   'O': '---', 'P': '.--.', 'Q': '--.-', 'R': '.-.', 'S': '...', 'T': '-',\n",
        "                   'U': '..-', 'V': '...-', 'W': '.--', 'X': '-..-', 'Y': '-.--', 'Z': '--..',\n",
        "                   '1': '.----', '2': '..---', '3': '...--', '4': '....-', '5': '.....',\n",
        "                   '6': '-....', '7': '--...', '8': '---..', '9': '----.', '0': '-----',\n",
        "                   ',': '--..--', '.': '.-.-.-', '?': '..--..', '/': '-..-.', '-': '-....-',\n",
        "                   '(': '-.--.', ')': '-.--.-'}\n",
        "\n",
        "def text_to_morse(text):\n",
        "    morse_code = []\n",
        "    for char in text:\n",
        "        char_upper = char.upper()\n",
        "        morse_code.append(MORSE_CODE_DICT.get(char_upper, char_upper))\n",
        "    return ' '.join(morse_code)\n",
        "\n",
        "def morse_to_text(morse_code):\n",
        "    morse_list = morse_code.split(' ')\n",
        "    text = ''\n",
        "    for code in morse_list:\n",
        "        if code != '':\n",
        "            text += [key for key, value in MORSE_CODE_DICT.items() if value == code][0]\n",
        "        else:\n",
        "            text += ' '\n",
        "    return text\n",
        "\n",
        "\n",
        "text_input = \"Ayush Gupta\"\n",
        "morse_result = text_to_morse(text_input)\n",
        "print(f'Text to Morse: {morse_result}')\n",
        "\n",
        "text_result = morse_to_text(morse_result)\n",
        "print(f'Morse to Text: {text_result}')\n"
      ],
      "metadata": {
        "colab": {
          "base_uri": "https://localhost:8080/"
        },
        "id": "5Soy2ZzlmCZq",
        "outputId": "ed6e50ce-4d77-4c90-a20d-cd71b6b2907b"
      },
      "execution_count": null,
      "outputs": [
        {
          "output_type": "stream",
          "name": "stdout",
          "text": [
            "Text to Morse: .- -.-- ..- ... ....   --. ..- .--. - .-\n",
            "Morse to Text: AYUSH  GUPTA\n"
          ]
        }
      ]
    },
    {
      "cell_type": "code",
      "source": [],
      "metadata": {
        "id": "8gLu8HPQreec"
      },
      "execution_count": null,
      "outputs": []
    }
  ]
}